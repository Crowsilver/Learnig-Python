{
  "nbformat": 4,
  "nbformat_minor": 0,
  "metadata": {
    "colab": {
      "name": "Untitled0.ipynb",
      "provenance": [],
      "authorship_tag": "ABX9TyOy4RowDTzf/iUYE+FVeLXi",
      "include_colab_link": true
    },
    "kernelspec": {
      "name": "python3",
      "display_name": "Python 3"
    },
    "language_info": {
      "name": "python"
    }
  },
  "cells": [
    {
      "cell_type": "markdown",
      "metadata": {
        "id": "view-in-github",
        "colab_type": "text"
      },
      "source": [
        "<a href=\"https://colab.research.google.com/github/Crowsilver/Learnig-Python/blob/main/Learning%20Python.ipynb\" target=\"_parent\"><img src=\"https://colab.research.google.com/assets/colab-badge.svg\" alt=\"Open In Colab\"/></a>"
      ]
    },
    {
      "cell_type": "code",
      "execution_count": null,
      "metadata": {
        "id": "Xv9m9ZEnWPaL"
      },
      "outputs": [],
      "source": [
        ""
      ]
    },
    {
      "cell_type": "markdown",
      "source": [
        "# Olá mundo"
      ],
      "metadata": {
        "id": "ekCNJDoXYWVb"
      }
    },
    {
      "cell_type": "code",
      "source": [
        "# Nosso primeiro comando em Python\n",
        "\n",
        "print(\"Olá Mundo\") "
      ],
      "metadata": {
        "colab": {
          "base_uri": "https://localhost:8080/"
        },
        "id": "m27-USuCYZ6m",
        "outputId": "4da50ae1-12ae-4037-c00a-dec488118f16"
      },
      "execution_count": 1,
      "outputs": [
        {
          "output_type": "stream",
          "name": "stdout",
          "text": [
            "Olá Mundo\n"
          ]
        }
      ]
    },
    {
      "cell_type": "code",
      "source": [
        "# Strings\n",
        "\n",
        "    # Concatenaçao com operador + \n",
        "\n",
        "print(\"Curso\" + \"\" + \" de Python\")    "
      ],
      "metadata": {
        "colab": {
          "base_uri": "https://localhost:8080/"
        },
        "id": "YiT9GCqPYtoA",
        "outputId": "15c7d395-24d7-4e9e-8d17-152298d3f424"
      },
      "execution_count": 6,
      "outputs": [
        {
          "output_type": "stream",
          "name": "stdout",
          "text": [
            "Curso de Python\n"
          ]
        }
      ]
    },
    {
      "cell_type": "code",
      "source": [
        "# Sustituindo valores com format()\n",
        "\n",
        "print(\"Aula {} do Curos de {}\".format(1, \"Python\"))"
      ],
      "metadata": {
        "colab": {
          "base_uri": "https://localhost:8080/"
        },
        "id": "vJEpTVJeZp1P",
        "outputId": "5787f8c7-07b0-4595-fb0b-c280830c12eb"
      },
      "execution_count": 7,
      "outputs": [
        {
          "output_type": "stream",
          "name": "stdout",
          "text": [
            "Aula 1 do Curos de Python\n"
          ]
        }
      ]
    },
    {
      "cell_type": "code",
      "source": [
        "#Transformando para minúsculas com lower()  \n",
        "\n",
        "print(\"Curso de Python para iniciantes\".lower())\n",
        "\n"
      ],
      "metadata": {
        "colab": {
          "base_uri": "https://localhost:8080/"
        },
        "id": "t7YZdu5sagKp",
        "outputId": "a8f109bc-6ee4-48ed-be8c-d4fc4fe05b79"
      },
      "execution_count": 9,
      "outputs": [
        {
          "output_type": "stream",
          "name": "stdout",
          "text": [
            "curso de python para iniciantes\n"
          ]
        }
      ]
    },
    {
      "cell_type": "code",
      "source": [
        "#Transformando para maiúsculas com upper()\n",
        "\n",
        "print (\"Curso de Python para iniciantes\".lower())"
      ],
      "metadata": {
        "colab": {
          "base_uri": "https://localhost:8080/"
        },
        "id": "db6FzqdIb5UV",
        "outputId": "fb50a250-fec8-4470-baef-739012678952"
      },
      "execution_count": 10,
      "outputs": [
        {
          "output_type": "stream",
          "name": "stdout",
          "text": [
            "curso de python para iniciantes\n"
          ]
        }
      ]
    },
    {
      "cell_type": "code",
      "source": [
        "#Removendo espaços em branco com strip()\n",
        "\n",
        "print(\"  Curso de Python para iniciantes \".strip())"
      ],
      "metadata": {
        "colab": {
          "base_uri": "https://localhost:8080/"
        },
        "id": "cA98YQBwcMfS",
        "outputId": "f2bb744f-ed6e-42dd-8b43-319a6824bb14"
      },
      "execution_count": 11,
      "outputs": [
        {
          "output_type": "stream",
          "name": "stdout",
          "text": [
            "Curso de Python para iniciantes\n"
          ]
        }
      ]
    },
    {
      "cell_type": "code",
      "source": [
        "#O tipo str\n",
        "\n",
        "type(\"Curos de pYthon para iniciantes\")"
      ],
      "metadata": {
        "colab": {
          "base_uri": "https://localhost:8080/"
        },
        "id": "fVTLiWMAcmCo",
        "outputId": "fd804311-e7d9-4493-d1d8-7b300078b0fa"
      },
      "execution_count": 12,
      "outputs": [
        {
          "output_type": "execute_result",
          "data": {
            "text/plain": [
              "str"
            ]
          },
          "metadata": {},
          "execution_count": 12
        }
      ]
    },
    {
      "cell_type": "code",
      "source": [
        "#Lidando com números e Oeradores Matemáticos\n",
        "\n",
        "  #Tipos Numéricos\n",
        "\n",
        "type(2)"
      ],
      "metadata": {
        "colab": {
          "base_uri": "https://localhost:8080/"
        },
        "id": "ewLZ1-ZHcz8X",
        "outputId": "cac2ad1b-a15b-4c0e-df24-74d700619cea"
      },
      "execution_count": 13,
      "outputs": [
        {
          "output_type": "execute_result",
          "data": {
            "text/plain": [
              "int"
            ]
          },
          "metadata": {},
          "execution_count": 13
        }
      ]
    },
    {
      "cell_type": "code",
      "source": [
        "type(2.5)"
      ],
      "metadata": {
        "colab": {
          "base_uri": "https://localhost:8080/"
        },
        "id": "Hzrx4l9vdDZB",
        "outputId": "fe23fe02-a237-4ac9-e793-cc9c6f229d48"
      },
      "execution_count": 14,
      "outputs": [
        {
          "output_type": "execute_result",
          "data": {
            "text/plain": [
              "float"
            ]
          },
          "metadata": {},
          "execution_count": 14
        }
      ]
    },
    {
      "cell_type": "code",
      "source": [
        ""
      ],
      "metadata": {
        "id": "LABIWEfZdaaV"
      },
      "execution_count": null,
      "outputs": []
    },
    {
      "cell_type": "markdown",
      "source": [
        "Soma"
      ],
      "metadata": {
        "id": "GhyfQkpedh9q"
      }
    },
    {
      "cell_type": "code",
      "source": [
        "2 + 2"
      ],
      "metadata": {
        "colab": {
          "base_uri": "https://localhost:8080/"
        },
        "id": "hTiVGIzVdkJq",
        "outputId": "1abd21e9-319e-4c73-8b0b-d8319cda712f"
      },
      "execution_count": 15,
      "outputs": [
        {
          "output_type": "execute_result",
          "data": {
            "text/plain": [
              "4"
            ]
          },
          "metadata": {},
          "execution_count": 15
        }
      ]
    },
    {
      "cell_type": "code",
      "source": [
        ""
      ],
      "metadata": {
        "id": "8n_4D6nOdkzv"
      },
      "execution_count": null,
      "outputs": []
    },
    {
      "cell_type": "markdown",
      "source": [
        "Subtraçao"
      ],
      "metadata": {
        "id": "XOhhLm53drvY"
      }
    },
    {
      "cell_type": "code",
      "source": [
        "10 - 7"
      ],
      "metadata": {
        "colab": {
          "base_uri": "https://localhost:8080/"
        },
        "id": "l-dPuzQddwdU",
        "outputId": "6e2c64e7-ab26-488e-814e-af2fb2c7236c"
      },
      "execution_count": 16,
      "outputs": [
        {
          "output_type": "execute_result",
          "data": {
            "text/plain": [
              "3"
            ]
          },
          "metadata": {},
          "execution_count": 16
        }
      ]
    },
    {
      "cell_type": "markdown",
      "source": [
        "#Multiplicaçao"
      ],
      "metadata": {
        "id": "gdtH-MqbdyOK"
      }
    },
    {
      "cell_type": "code",
      "source": [
        "7*3"
      ],
      "metadata": {
        "colab": {
          "base_uri": "https://localhost:8080/"
        },
        "id": "dJogI6h9eVYD",
        "outputId": "5071696e-3e07-4500-9aa4-fed62af2f66d"
      },
      "execution_count": 19,
      "outputs": [
        {
          "output_type": "execute_result",
          "data": {
            "text/plain": [
              "21"
            ]
          },
          "metadata": {},
          "execution_count": 19
        }
      ]
    },
    {
      "cell_type": "markdown",
      "source": [
        "#Divisao"
      ],
      "metadata": {
        "id": "KWwCSqd_emyN"
      }
    },
    {
      "cell_type": "code",
      "source": [
        "2/2"
      ],
      "metadata": {
        "colab": {
          "base_uri": "https://localhost:8080/"
        },
        "id": "iSQUJ5aeetcw",
        "outputId": "aab92239-92e3-4be4-d5fe-2298ab0d2c53"
      },
      "execution_count": 22,
      "outputs": [
        {
          "output_type": "execute_result",
          "data": {
            "text/plain": [
              "1.0"
            ]
          },
          "metadata": {},
          "execution_count": 22
        }
      ]
    },
    {
      "cell_type": "code",
      "source": [
        "5/2"
      ],
      "metadata": {
        "colab": {
          "base_uri": "https://localhost:8080/"
        },
        "id": "dsmFgWJWewu5",
        "outputId": "c27467ed-1a92-4670-c507-fb4940511233"
      },
      "execution_count": 24,
      "outputs": [
        {
          "output_type": "execute_result",
          "data": {
            "text/plain": [
              "2.5"
            ]
          },
          "metadata": {},
          "execution_count": 24
        }
      ]
    },
    {
      "cell_type": "code",
      "source": [
        "5 / 2"
      ],
      "metadata": {
        "colab": {
          "base_uri": "https://localhost:8080/"
        },
        "id": "mEYzIoN-e2Ju",
        "outputId": "9263d427-a200-400c-ce66-c38bdb62c931"
      },
      "execution_count": 26,
      "outputs": [
        {
          "output_type": "execute_result",
          "data": {
            "text/plain": [
              "2.5"
            ]
          },
          "metadata": {},
          "execution_count": 26
        }
      ]
    },
    {
      "cell_type": "code",
      "source": [
        "type(5/2)"
      ],
      "metadata": {
        "colab": {
          "base_uri": "https://localhost:8080/"
        },
        "id": "q-gie1zKe6vn",
        "outputId": "8b6ad983-58f3-471b-a28e-ac8db253c2ae"
      },
      "execution_count": 27,
      "outputs": [
        {
          "output_type": "execute_result",
          "data": {
            "text/plain": [
              "float"
            ]
          },
          "metadata": {},
          "execution_count": 27
        }
      ]
    },
    {
      "cell_type": "markdown",
      "source": [
        "#Divisao inteira"
      ],
      "metadata": {
        "id": "emhBH_wjfAGD"
      }
    },
    {
      "cell_type": "code",
      "source": [
        "5 // 2"
      ],
      "metadata": {
        "colab": {
          "base_uri": "https://localhost:8080/"
        },
        "id": "8nAMwB5zfGji",
        "outputId": "95a31460-015e-493b-984a-f4dbd38cde3a"
      },
      "execution_count": 28,
      "outputs": [
        {
          "output_type": "execute_result",
          "data": {
            "text/plain": [
              "2"
            ]
          },
          "metadata": {},
          "execution_count": 28
        }
      ]
    },
    {
      "cell_type": "markdown",
      "source": [
        "#Resto da Divisao"
      ],
      "metadata": {
        "id": "UqaPlJSvfIsu"
      }
    },
    {
      "cell_type": "code",
      "source": [
        "5 % 2"
      ],
      "metadata": {
        "colab": {
          "base_uri": "https://localhost:8080/"
        },
        "id": "zux5G-YafMLC",
        "outputId": "f4f003e6-08e1-45e2-83db-7a9588756c1d"
      },
      "execution_count": 30,
      "outputs": [
        {
          "output_type": "execute_result",
          "data": {
            "text/plain": [
              "1"
            ]
          },
          "metadata": {},
          "execution_count": 30
        }
      ]
    },
    {
      "cell_type": "markdown",
      "source": [
        "#Expressoes"
      ],
      "metadata": {
        "id": "9QtXMYYdfSdR"
      }
    },
    {
      "cell_type": "code",
      "source": [
        "10 - 5 + 20 - 4"
      ],
      "metadata": {
        "colab": {
          "base_uri": "https://localhost:8080/"
        },
        "id": "Qx3wjrgOfjQz",
        "outputId": "c8ec1bd4-e286-4f33-8bb2-a899ae3eb26c"
      },
      "execution_count": 31,
      "outputs": [
        {
          "output_type": "execute_result",
          "data": {
            "text/plain": [
              "21"
            ]
          },
          "metadata": {},
          "execution_count": 31
        }
      ]
    },
    {
      "cell_type": "code",
      "source": [
        "((2+3)*(4-2))**2"
      ],
      "metadata": {
        "colab": {
          "base_uri": "https://localhost:8080/"
        },
        "id": "7UDlg-YGfoHc",
        "outputId": "97b7a3a1-3e02-45f0-b5ad-c6d1dbf6dd05"
      },
      "execution_count": 32,
      "outputs": [
        {
          "output_type": "execute_result",
          "data": {
            "text/plain": [
              "100"
            ]
          },
          "metadata": {},
          "execution_count": 32
        }
      ]
    },
    {
      "cell_type": "code",
      "source": [
        "#Exponenciçao"
      ],
      "metadata": {
        "id": "vOktu5_hfwVZ"
      },
      "execution_count": 1,
      "outputs": []
    },
    {
      "cell_type": "code",
      "source": [
        "5 ** 2"
      ],
      "metadata": {
        "colab": {
          "base_uri": "https://localhost:8080/"
        },
        "id": "Ifln2kNETuy6",
        "outputId": "4011e549-9186-4561-f02c-d8b1a660ce59"
      },
      "execution_count": 3,
      "outputs": [
        {
          "output_type": "execute_result",
          "data": {
            "text/plain": [
              "25"
            ]
          },
          "metadata": {},
          "execution_count": 3
        }
      ]
    },
    {
      "cell_type": "code",
      "source": [
        "# Variáveis"
      ],
      "metadata": {
        "id": "myoQLGE0T7zT"
      },
      "execution_count": 4,
      "outputs": []
    },
    {
      "cell_type": "code",
      "source": [
        "## Variáveis de texto"
      ],
      "metadata": {
        "id": "i8fXu32lUBcE"
      },
      "execution_count": 5,
      "outputs": []
    },
    {
      "cell_type": "code",
      "source": [
        "texto = \"Curso de python para iniciantes\""
      ],
      "metadata": {
        "id": "X2f350BQUFmK"
      },
      "execution_count": 6,
      "outputs": []
    },
    {
      "cell_type": "code",
      "source": [
        "texto"
      ],
      "metadata": {
        "colab": {
          "base_uri": "https://localhost:8080/",
          "height": 36
        },
        "id": "t_PzLdXZUNmz",
        "outputId": "41da4599-b60a-449c-8f23-d5ca0e261de2"
      },
      "execution_count": 7,
      "outputs": [
        {
          "output_type": "execute_result",
          "data": {
            "text/plain": [
              "'Curso de python para iniciantes'"
            ],
            "application/vnd.google.colaboratory.intrinsic+json": {
              "type": "string"
            }
          },
          "metadata": {},
          "execution_count": 7
        }
      ]
    },
    {
      "cell_type": "code",
      "source": [
        "texto =  texto + \" - Aula 02\"\n",
        "texto"
      ],
      "metadata": {
        "colab": {
          "base_uri": "https://localhost:8080/",
          "height": 36
        },
        "id": "wX6WHpU0UQQq",
        "outputId": "ea133f2f-257c-4bdc-8da3-63b4ae1844ea"
      },
      "execution_count": 11,
      "outputs": [
        {
          "output_type": "execute_result",
          "data": {
            "text/plain": [
              "'Curso de python para iniciantes- Aula 02 - Aula 02 - Aula 02 - Aula 02'"
            ],
            "application/vnd.google.colaboratory.intrinsic+json": {
              "type": "string"
            }
          },
          "metadata": {},
          "execution_count": 11
        }
      ]
    },
    {
      "cell_type": "markdown",
      "source": [
        "Variáveis numéricas\n"
      ],
      "metadata": {
        "id": "-FaaFQvrUXDa"
      }
    },
    {
      "cell_type": "code",
      "source": [
        "soma = 0\n",
        "soma"
      ],
      "metadata": {
        "colab": {
          "base_uri": "https://localhost:8080/"
        },
        "id": "EM2dJE2TVDt8",
        "outputId": "9b2f9bb4-2c99-4ee2-dcf4-c550294e6e7c"
      },
      "execution_count": 12,
      "outputs": [
        {
          "output_type": "execute_result",
          "data": {
            "text/plain": [
              "0"
            ]
          },
          "metadata": {},
          "execution_count": 12
        }
      ]
    },
    {
      "cell_type": "code",
      "source": [
        "soma = soma + 1\n",
        "soma"
      ],
      "metadata": {
        "colab": {
          "base_uri": "https://localhost:8080/"
        },
        "id": "zo3iXfN7VK0r",
        "outputId": "3ef54f17-6d84-4e6c-c5ce-02a7e6d12928"
      },
      "execution_count": 14,
      "outputs": [
        {
          "output_type": "execute_result",
          "data": {
            "text/plain": [
              "2"
            ]
          },
          "metadata": {},
          "execution_count": 14
        }
      ]
    },
    {
      "cell_type": "markdown",
      "source": [
        "Listas"
      ],
      "metadata": {
        "id": "ka2hiMKwVPHK"
      }
    },
    {
      "cell_type": "markdown",
      "source": [
        "Criando e selecionando Elementos"
      ],
      "metadata": {
        "id": "1_htJTbHWTmZ"
      }
    },
    {
      "cell_type": "code",
      "source": [
        ""
      ],
      "metadata": {
        "id": "aYfjTnP1WXIW"
      },
      "execution_count": null,
      "outputs": []
    }
  ]
}
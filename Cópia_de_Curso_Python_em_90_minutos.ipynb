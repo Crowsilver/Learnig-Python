{
  "nbformat": 4,
  "nbformat_minor": 0,
  "metadata": {
    "colab": {
      "name": "Cópia de Curso Python em 90 minutos.ipynb",
      "provenance": [],
      "collapsed_sections": [
        "GlYYu_RQ9xIr",
        "J5UE-f5Q94tF",
        "rRU7O3L2-6Xd",
        "Jgv-JTLG_6X2",
        "yrEilVhIAkEE",
        "t9fLZ9SdB9jo",
        "DI-stsduCXKV",
        "hXUy7Bb8DuFd",
        "FWgc9fYjIulT",
        "DvkM3LAuJnd_",
        "IVkSdvvKJzOj",
        "kfatEmzSKa9I",
        "hW-SggJnkOMC",
        "KOSW2gYeWXJH",
        "zkMHo6kAWmnJ",
        "78ID1c5nW_ql",
        "wCrZFw72ELSQ",
        "_8lOZMwDEsB2",
        "4pE6ZHUrgD1R"
      ],
      "include_colab_link": true
    },
    "kernelspec": {
      "name": "python3",
      "display_name": "Python 3"
    }
  },
  "cells": [
    {
      "cell_type": "markdown",
      "metadata": {
        "id": "view-in-github",
        "colab_type": "text"
      },
      "source": [
        "<a href=\"https://colab.research.google.com/github/Crowsilver/Learnig-Python/blob/main/C%C3%B3pia_de_Curso_Python_em_90_minutos.ipynb\" target=\"_parent\"><img src=\"https://colab.research.google.com/assets/colab-badge.svg\" alt=\"Open In Colab\"/></a>"
      ]
    },
    {
      "cell_type": "markdown",
      "metadata": {
        "id": "UqqGpz8KX5eB"
      },
      "source": [
        "![image.png](data:image/png;base64,iVBORw0KGgoAAAANSUhEUgAAAfQAAADICAYAAAAeGRPoAAAgAElEQVR4Ae2dB7gkVZn3ibLqp+u337qroiKouAjqqosBXXVFVyVLTiJZRBEMJAEJMzDMDDPAwDCEIcdhgAkwM/dOTkzOOdycc86hz/f8+1IzfavPqTrVFfpUz/88Tz/VVX3q1Pv+3tP1r3DCQYKJBEiABEiABEgg9gQOir0HdIAESIAESIAESEBQ0FkJSIAESIAESCAHCFDQcyCIdIEESIAESIAEKOisAyRAAiRAAiSQAwQo6DkQRLpAAiRAAiRAAhR01gESIAESIAESyAECFPQcCCJdIAESIAESIAEKOusACZAACZAACeQAAQp6DgSRLpAACZAACZAABZ11gARIgARIgARygAAFPQeCSBdIgARIgARIgILOOkACJEACJEACOUCAgp4DQaQLJEACJEACJEBBZx0gARIgARIggRwgQEHPgSDSBRIgARIgARKgoLMOkAAJkAAJkEAOEKCg50AQ6QIJkAAJkAAJUNBZB0iABEiABEggBwhQ0HMgiHSBBEiABEiABCjorAMkQAIkQAIkkAMEKOg5EES6QAIkQAIkQAIUdNYBEiABEiABEsgBAhT0HAgiXSABEiABEiABCjrrAAmQAAmQAAnkAAEKeg4EkS6QAAmQAAmQAAWddYAESIAESIAEcoAABT0HgkgXSIAESIAESICCzjpAAiRAAiRAAjlAgIKeA0GkCyRAAiRAAiRAQWcdIAESIAESIIEcIEBBz4Eg0gUSIAESIAESoKCzDpAACZAACZBADhCgoOdAEOkCCZAACZAACVDQWQdIgARIgARIIAcIUNBzIIh0gQRIgARIgAQo6KwDJEACJEACJJADBCjoORBEukACJEACJEACFHTWARIgARIgARLIAQIU9BwIIl0gARIgARIgAQo66wAJkEDOEZi5fLt4NX+D6OkbyDnf6BAJqAhQ0FVkuJ0ESCCWBAYHE+L71z4mPnXaveJrlz4kHpmyVDS3d8fSFxpNAl4IUNC90GJeEiAB4wnMWrEzKeYQdOtzx1NzjLebBpKAXwIUdL8EuT8JkIBRBE6/+bl9Qg5B//Tp94qiykajbKQxJBAGAQp6GFRZJgmQQFYIrN9VMUzMIehXjJySFVt4UBKImgAFPWriPB4JkEBoBK564M00QV+9vSy047FgEjCJAAXdpGjQFhIggYwJlFQ3JR+vW+/NsfzVXyZnXB53JIG4EaCgxy1itJcESEBK4PZJs9PuztF9jYkEDhQCFPQDJdL0kwRynMBrczeI7149YZ+on3jVo2JgMJHjXtM9EthPgIK+nwW/kQAJxJwA+qC/u3yHOPVvz4pnZqyKuTc0nwS8EaCge+PF3CRAAjEhAHFnIoEDiQAF/UCKNn0lARIgARLIWQIU9BwIbV/HTtFR85YQYjAHvMmSC4k+0d20RLRXvS76u4qzZAQPSwIkQAKZE6CgZ84ue3sm+kRXwzxRv+MmUbrkWFEw56Dkh0LkPSQDvXWiYfdtonjBv+/jWDDnYFG5+ieiveo1kRjs8V6oAXvgcfOG3RXi8beWi7uezhPXjXlbXD3qzUA/14yaKm57YpZ46LXFYt6aPaKrpz8wz2E/BomB/Xd+YD/6mAf5gf23Thyyf+7q3Z7t311aFyjPTOIDH26Z+F4yBrNX7hQdXb2eY6A6rteCunv7xfy1e5O2oF5c8+DUwPmgHqM+o16s21kugnytEnf7ES8Kutdam7X8g6KrPl/Ubr5MFM37RIr4DIl51dpfZs2yuB64tewpUTj3Y2ksrQskLCH0TQX3i8H+1li42dXTJx5+Y6k4/pKx+1p7p/bLDvP7F86+X9z48HRRUZc5qzjZv2JrSeSM3eL3+bNGit+NfksUVzVp11dVmboFVNa3ipsemSGOPuf+yHkcf/FYMe71JaKzu0/X3LR8cbc/1SEKeioNA78P9jeL5qIxomTxFxyE52DR07reQOvNNqmpYKQozP+wA9ehiyUIe9H8T4qW0olGv9ZYuqlIfP034yI/qdoF4ahfjxRPvLPCc/DjZr+Jgm7F4rNnjkjeKSc02gVa+9iXOgGcNG2FQLzt+0a9jln1UH+8prjbb/eXgm4nYsg67ggb99whCud+1FVwajZdaIjV8TMDj9wbd/9d+tQj9U7d+l6x6keiv7vUOEefn7VWHHnGfVk/saaeyHG33tev164jjvabLOhWHPA43e1ViJXXvnSq5Igr4mvfJ5vrqP+oRzop7varfKSgq8hkcXtn7UxRvOBTrkI+9Ej438RAT0UWrc2NQycG2kRz0Wgt7ngM39OyxhjHpy7cbNSJNfWk/pcJM105xdX+OAg6YoH37E536qnxSv3uFDjENTWvSd9Rn9xS3O1X+UdBV5HJyvaEaNx9u5aQF+Z/RNRt+50Y6KnMiqW5elA0gmste1IULzzSMQ5ox9DbtiXrGDbuqRR4b2rSCdVuy+SZq5Wc4mx/XAQd8cB7ZlWyx8taV+VHPK08Ji7xf0C9UqW426/yC9sp6E50Iv6tbvv1jiKCO/KSxV8UzcXjxWCffqOXiN3IicMlBjpF3bbfO8YDscCdfTYTJh9xOqlefPeryRHTZq3YmWyJjtboQX3yV+8Wr+ZvSD56RYM4lR3HnPuAqGvukGLyYj9aogf58Wu/StB/8odJgTF2ixV8eH3eRvHXx94VXzxvlDIGnztrhCitaZbGQBU3Web65g7H46Ae/Gn89GS9yFu1K3AOqMcQ5EvueVXpK/z55Z+fkZkv4m6/1KmUjRT0FBjZ/NpSMsFRPNB4q6X0cSESwXUNyqa/cTl24547HeNSv+NPWXMFJzfVyfgbl40Ta3ZEN20oWgqfcctzSnswcYo9mWb/6Td7s18l6Gff/oLd1UjWIVYX3PWyMgZ/eOgdqR2qOiTLfMdTc5TlI/6oB1El1G/Uc5X9GALYnuJuv90f+zoF3U4kC+t9nQWOra0L535c9LSoH1tmweQD6JAJUbHqh2pRz/uQ6O+OTjhTwV95/xTpyey4i8YITCUaderpG0iOoS47wcIm+0QpcbffNEFHvPsHBsX5d8pFHXfPsgZysnhhmz2hzze6icnyn/LXyQLxjzqhnqNuyWy6fOQbw8yJu/3DnFGsUNAVYKLcXLP5UrVgzDlIdNRMi9IcHstGoKtxoWN8mvbeY9sj/NXe/gGBR9myE9mU+ZvCN0BxhKLKRoEuUzK7Vm/ff+ETd/vhvomCDrtqGtvF0efI6wYe4duTLFbYZk9rd5ZL44rW5YWVjfbska1PWbBJahcYpF5kxN1+HaAUdB1KIeYZ7KsXBXmHKwWjat0pIR6dResRSIiSRUcpY1S27AS9YgLMVVDRID2Jffn8B5N3aQEeynNRv7nvdaltL8ze36XIZPsvvfc1qf32LlGmCjoC9sdx06Q+THhzWVo8dQX9pTnrpGVecs9raWVGuQFPJb5ywWipbXvK6/eZEnf79zni8IWC7gAnip8wWpnVx1m27GqYG4UZPIYLgbqt1zjGaaC31qWEYH9eua1UegI7+/YXgz1QBqVhpDqZSIx9dfG+0tRiaK79Y15ZtM9+fFH7kJ136KnGPffeGmkMMIyuPcliJbtDR0t5WV4M/ZvtdN4dL0lte3/L/nkZ4m6/DmMKug6lEPPUbLxAKRR4d85GcCHC91B0a/lkZZxwIYZheaNMc1bukp7AMNZ5tlN5XYtYuL4g7ZN6t2Sy/XiSIBMue8M+kwV92pKtUh9kDeNkvsoEHWOoy/I++2722/dsLaxOq2+og2goaCWT7b929FtStrKGfZY/siUFXUYlwm3o+iS7M8e2ytX/E6ElPJQTge7Gxco4IVYtJY847R74bypBxMhgcUiYSEQmDiZckKgE/TZbS32TBX360m1SvmEIOp4GxCGpBN0E+zH+vuz/QEGPQ82ybEz0ioI5hyqFAgPHMJlBoLdtkzJOEPSGXbdEaigFPTzcFPR7k+JiJ2yyINptla2bbD8FXRaxmG3r7ypyFAmMGhdlauvsETOWbktOiYk+pejjmY0ZlOxXqmit+s3fjhdn3fq8+PuTcwSuWjOZJtIPS8w5r3qSgu21Wy73U7znfSnonpFp70BBp6BrV5aAMlLQAwKZzWJ6WlY5ikRTwX2RmIf3T78f+7YRsybZxVy1jguNG8ZPE5iTOorkJug1G8+Pwox9x6Cg70MR+BcKOgU98ErlUmBsBB1dChZvKBQPvLggOYrRd656VHzpvFHi06cPVRrVCTvs7ZjyD4MkYIhAa6jC6sZoh/FEC3anu76mghEu1cDfzxiOE+/UwmYddvmYaKGxtcsfDJe93QS9ev2ZLiUE+zMFPVieqaVR0KMVdAw4VF7bEsinobUzNZTDvvOR+zAc3lZqm9rFfc/NU44sFPZJPpPycZGB7g9oHRlF6qx7N2uCvmhDQaxi4xZPvB5AI6WwkpugV607NaxDS8uloEuxBLKRgh6toEPM3f7fXn4/6drHBP4f9kRBtxPRWMcIUOiH6jRZg5fgZCsv3tfuCvlxbkft9KwIOgbIyPYTkjDiihGrMGpUGImCHixVtnIPlqe9tDi1cg9a0K1zy1uLhs+GSEG31xKX9eKqJvHzG58K9GrLCk42lpiG7/kQu2RgSNeoH7k/OW1lzsRHVSdezlvvUlO9/0xB987MaQ8KuhMd/79R0O8V/3Hh6GFj11PQPdSrdTvLkwBVJ9k4b79l4nsCA/sHnaIW9HcWywebiHNsZLbj6QOmbgwyUdCDpCkEBT1YnvbSKOhDrw2Wb94/UhwF3V5LFOuYdMGE7k2yk3tQ2zA2ciJgTY9S0HeX1SsnbAiKkUnlYEzzIGcco6Ar/vwZbqagZwhOczcK+pCgpw7MQkHXqDwYzvHYCx7M+ce4EKt7Jgc7rnpUgo6nC2jNn4ng4r00egOccOlDWfng2J85476MbA9yXmoKusbJwEMWCroHWBlkjZOgVzW0iROvfMTXRzW7HAXdQ+Xp6ukTP7r+iYxOtpmIiwn7pFYQD6ikWaMS9NfnbfQUo5NveFK8OHtdshtJ0E8lpCBcNuKCBHfbGKLxv6+b6MkXnNiCSBT0ICjuL4OCvp9FGN/iJOhB+K/Tj5t36C6k7312rqeTqyXI6AP+7SseFt+7ZkJWPt+9eoI47qIxGdmO/YLq8xyFoKOPJzhb7J2WiMur+RsCf7XgUo08/Qx/npmxSjnntt2/H1//RCD+UNA9hck1MwXdFZGvDBR0PnL3VIEwnzEex9pPoKr1b13+sEALa7SENyXhCQMaT10+8g1tP+AfGskFkaIQ9AXr9mr5hsF+NuyuCMKtSMpAYxfdrpFB9E83TdCXbCyUxvXiu1+NhL/TQSZNW5E8N+D8kPrB4FJWMtn+J95ZIWU74vn5lvnJpcmTs+DCXHYuvvnx9HOXLB+22dOolxZKy3z8reX2rJGvY052mR+pY4qYbP+l98rtx/nbS8p4trUbH54uBSiDigFmunv7vdgVed5V20uTY5fL7Ldv+9xZI0RlfatvG6MQdJ04oVX4/LXeKo5v5wMoAOPO22MjW7914izfRzNN0HcU10p9P/GqR3376rcAjNwni8PTM1btKzqO9j81feU++/HFZEFXPT2VzV0uixW22dPkmaulcb3xkRn2rJGvYwRSmR+oZ1Yy2X7VU9RtRTWW+VrLjAS9taNHoI+2DKB92ysh9AnW8iyDTGic8YPfPa7ll+yP4fWQUQg6nozYY2Jfx5jocU1XjJzi6h9GjvKbTBN0/AdVgwNl80kLnnodf8lYaUxSR++Ku/2oT6YKel//YLKBmf1/jvUp89MHXpLlwzZ7yl+9WxrXr148RnR299mzR7a+dme51C40psWEU1Yy1f6Neyql9uP/3dzebZmvtcxI0N/QbGSFRxxxS0WVjeIrF4yWAk6t+D+87nHfroUt6DWN7a5+wCf4HNe0vahGy8eWDm9/DDsP0wQd9p32t2elvp/y18kCIzZmI909OV9q02fPHDHs5ArbTo25/aYK+rjXl0hjgP86zgn2lHpeS/1uz4cZDvF0MjWP9R1xz0bq6RsQv7jpaalNGO0zNZloP/6nTv+DVPt1vmck6DoTeuARAq4U45iefVf+aMmqvNbS72QuYQu66oRj2Y8leinEPaket6X6iatgP8lEQZ/49vvSExn8vvL+KcNGyfLju+6+j01drrTnon+8klZM3O1X/b+C7C6ZBs1lA4Z1Tq33qd9xoSdLqXlSv8vyXnLPq8ryEf8oEwT6svteV9pjf0UC20yyH0+z8D9NZZ76PROeGQn69699TGmEZRAaZcQ14UIE/a4tX1RLtNT1k9wEvblojJ/ik3Obq2y3tsf5cbsF55pRU11jNXf1bit7Rku3ueujnpwFTrR39TpOsIPeHBgGF+09whjpEDbgkSAeZULErDolW+KxqD3F3X5TBB2vL9B4Cg0iZeytbaoGVtbv9qU9Xlhfv6vC8RioB2ho3NQWzuyHqMcVda0CE+j81xWPKG352qUPCQimPZlgP/6PeBWN/6edubWO8TdSXxfY/VCtexZ0TIeKx2fWgWVLPPtvaFFPY6cyxqTtf35U3rAn1V/cYfhJboLeWi6/otY9ps6rETSeiXu6fdJsx/qImE1bstWXm4P9zY7j7mdD0OGQamaw1HpqfU9tcR7Ed9U7fOt41vKaB6cq2XuxH+9Eg/z4tV8l6PA7CL46ZegOunTBXS8rY2DFyb5U7XDt6Ldc/28oC3x1fPCSx26jat3phjIO9uNJSybJs6DXN3e4BhNXTnFPmJRFVVms7X5HjuuoecdRJDpq/bUexVWgZatqGcd2Dva6hTio/LO2T1242b6bx/WEKMj7kDJeVetO8VhecNmvH2vunPYYCMjtTiOu9jsJulXvTFhiFDanGyyVjaoainh6HeBJdYwwtrs9dTTdfvwfMk2eBb2sptn15IlhRuOe0M/5jFuec/ygv6qf1F71mlIgMAvbQK+3Lgt2WyjoQ4NL4KThX9CFqFj1Q2W8KtecbMcf2Tq6hJ57x0uu/8swTp5OZWLwKJ3x9ONqfxwEHY+ed5bs77olq5SqGMryWtswngjiq9o3W9vPv/NlgYZybslU+8+74yVfXbw9CzpAuAULQsjkTqC17EmlQJQt/4Z7AS45KOjBCnpTwQhlvMpXnOgSjXB/xqsw9Ld3+29G9Tta4ONpnm6Ko/2mC/rP/vRU8n2zWwxUdcJtP8RX1dNCVWaY2//xTL7ASJK6yTT78f/F/8BPoqD7oedz34bdtykFoq1S/c5L97AU9GAFfbCvXhTO/ag0ZsUL/k03LKHmQ8Onn97wZNaEHX3QMeZ+pj1cTLAfvVx07DdV0NHtFu17dO5UURlVIqtTUcEJryd1GhGrjuN3+6/+Mlm8v2X/NKk6dlt5TLD/f/44KbCBvSjoVmSzsCxbdoJUHPBoVyTcHxu5mUxBD1bQwbu5eJw0ZnhF0tu20S0kkfyOCXVwgkPbAvTR/c/Lxrs2ZM30pIpBRTBePt5bzly2PZABRiz70bcZ9n/jsnGh24/pkTHyoJcBUkwRdMwv8aPfTxTXjXlbvL14i2ubBXslVMXens9pHS3KMXEVRqZEfUArbVW5frajAR3qM17rYgRSjPAZRIrSftTn/73xaYEnCss2FQXaA4WCHkRtyKAMtGCHCNg/JYs+LwZ6/PWZtsyhoAcv6GBbs+mitLghjlXrTrfQc0kCJEACkROgoEeOXIjOundFYf6H00ShdOlxor87mCtOuEVBD0fQRaJf1G65Mi1+EPWmvelDZmahivGQJEACByABCnqEQR/oqRB1W68WBXMOThODqrW/FIP9LYFaQ0EPSdA/iFJz0WhRMOeQ9FiuO030de4JNJYsjARIgATcCFDQ3QgF9Dv6lMvuynFX17DrZiGEv9aNMjMp6OEKOph3NcwXRfP+OU3UC+YcKhr33CkLC7eRAAmQQCgEKOihYE0vtGbThZKTPt6hHypEIn2IwvQSvG+hoIcv6IgK3p3b20Ik1/M+FMqFmveawD1IgAQOBAIU9Iii3NOySpQsPkZ64q/b9nshEr2BW0JBD1/Q26unyEeQyztcNBc+GHhMWSAJkAAJqAhQ0FVkwtie6BcYTKZo3ifShL1i5fd9jwxnN5mCHqagD4qGXbekxRF35tUbfi36uzLrF2uPIddJgARIQJcABV2XVID5+jr3iuKFR6aJAbqsYZrOoBIFPRxBTwx2J0Vb9pidd+VB1V6WQwIk4JUABd0rsYDyozGVTBCK5n9S9HcVBnIUCnoYgj4oqtb+Shq76g3nBhI3FkICJEACmRCgoGdCLaB9Klb+QCoMGMc9Mdjj+ygU9OAFvXHPHdKY4eKst32775ixABIgARLIlAAFPVNyAezXuOcfSnFoLX3C9xEo6MEKen93ubwB3JyDRPHCz/iOFwsgARIgAT8EKOh+6Pnct7X8GaWgly451mfpHCkudczoIKZPbdx9uzJe5Su+5zteLIAESIAE/BCgoPuh53Pf9qrXlQKBR7j93WW+jsA79GDv0Mvf/y9lvCrX/MxXrMLYGY33OutmJYejrdt+vajZeL6o3nBOoB+Ma1+/40aBUfO6m1dk3O8+MdAp0AbB/qndckUYaDyVibkV7HZhvX7nnz2VE0RmNKgdsmUojp11s4Mo1nMZve3bhtUjjLMRZINezwal7NDdtHyYbVadbyl5NCXX0NeOmmnSvNY+2V62FD+cZrPTBgq6E52Qf+uoeUcpEBD0jpq3fVlAQQ9S0AeTgwDJGjJiW9W6U33FKsid8WoAY80X5n/EsX6pfPGzHY06mwruE4kB/bnQ4TuGPZYdt2j+vwaJJqOy+jp2SW3DbInRpkFhb3eDaXsxrW/UqatxURqTwrkfF51170VtStrxVDdKNZsuScvbVDgqzQ9ZPczWtpqNF6TZ7LSBgu5EJ+TfcHXoVFFay57yZQEFPThBH+xrcIyVKYKO6V0L8//J0VanOhfUb8ULPpUcFle3AlPQ3Uk1F42VxhV37FEnmaAP1Z1DBEQym4mC7oF+cVWT6zy3Z9zynIcSD9ysboLut0/zG/M2usYKcwrHPd0+abarn9OWbPXlZl9ngfRkaglg1gU90Sdqt1zuaKNla2TLvMOEbuNOCrpz9ezr2OF4oQYRizKpBX1oSmg8gk8MdkVp0r5jUdD3oXD/QkF3Z6Sbw03QmwpG6BYlzTdj6TZXofvT+OnSfeO08ZpRU139zF+925dLeD/oJITZFvShWfyGTqZOdmbjt7bKl13ZU9AdECX6RfmKEx3rX9H8fxEDPdUOhQT7k5ugo56Vv/8t3+2AMrGagu6BWllNs+vJ8xc3Pe2hRDOzLt5QKE6+4UnHzyNTlvoyPmxBX7G1xDVWP/nDJF8+mLDz966Z4Ornht0Vvkw1WdBbSh5zPNlnQ8SHHTPvCNHTstaRPwVdjQcX9sN4zpFfuGGSoKiSjqDDZrzj725aFpVZyeNQ0D3grm/ucD15fvsKby3zPBw+sqzPvbfG1c97Js/1ZU/Ygl7d2ObqA7p2lVQ3+fIjdefm9m5RVNno+Gnr9D9ojnXMHcW1Wj7CLj/JVEEf6K0ThXM/pj7h5x0h8PizpXSiwEQyHdVTA/20V70m8G63cs3Jahtwt7biO474KehyPL1tm0RB3uGObFPFvq3iBXlBAW/VFfSkbXmHC7/tgbyY70XQ8Sqts+5dXx/0IEmNgfUdT+38lt3TusGL68Jzo7iBwYT47JkjHE+inz79XgHhj3O68ZEZjj5CCCe+/b4vF8MWdBj3zd+Od/UDvgaVxr+xxPV4L8x2vlvzYsvVo950Pd73r33MS5HSvKYKOrqMWScQ+xIT/vR3lUj9CWNjd+NigcZwdjusdadeGxR0SUQSfQKjRlr8dJZF8/5ZoJdD2MmToH/wRGFoVslwpopO9deLoKful+n31rJJ0hjVb/9DpkVmvJ9nQceRTrr2MdeTKFpYxzX19Q+K4y8Z6+rj7JX+JlKJQtBvGD/N1Q9cgOEVQxApSkGftWKnq2+48Lplov+uNGYK+mDykabsRI87YvRDjzqhnzTe58pswix0qkRBTyfTuOdOKUewRXc+GWNsq1z7i/TCAt6SiaDDtopVPw69mx0F3WOw/zjOXSS+e/UEAWGMY3pmxiotoahpbPflXhSCPn/tXi1fvnLBaLG10H+jmqgEfc2OMnH0OQ9o+Ya2BH6TiYLe07JKflLPO0z0dfhrBOiHV1vF81K7Cuf+HyESvdKiKejDsaDNQUHeYVKOuGDq7y51vHsP+xG3StCTF3MurwhKFh0l8CohrERB90hWpzsU7oxGvjDfY8nZz15Q0SCOveBBV6H47+sm+jY2CkHHKxJcXCEebh8IpN/uXWELeiIhxKv5G8Tnzxrp6g/8/dH1Twjs4zeZKOg4acvu0jAbXFZTol8UzfuE1DZwlCUK+n4qmJipdOlXpfwQbwgWktP7dVw89XcV7S804G8qQccdeHfTEoEBhmR109qGQY/aq98M2Kqh4ijoHrG2dvRon1CDfF/q0UzP2SvqWgXet7oJH35/6LXFnsu37xCFoOOYEEAdn6w8p/3tWfHWoi2iqc17P9KwBL2hpVNMmb9J/PzGpzz58s5if/3PrZiZKOgYkc06QaYum/beY5mdtaWqkRyEQJYo6PupNOz6mzSuiLF9EBmnFvCVq38ihAjgana/afu+OQk6MqHtRtny/1T6YdVXzF4YtI0U9H1h0v9y48PTtU+sdz2dJzq7w28MoW99es6lm4rECZc+pOXT584aIaoa2tIL8bglKkEfHEwIdCW0BNvL8svnPyi+c9Wjybt83Om7ff7jwtGuxzn+4rGu5VjHOfGqR8WXzhvlWqbMp7Nufd5jRNTZTRR0jCVunRhTly0lE9SORPQLxo1Ptcn6rmoYR0EfCkx38/uiYM4hUnboAoZeDcMS+qg7zDEgG7982P4ZrrgJOopNjs+/8TypL1Z9wLJq/RkiMbXNKWUAABAYSURBVOD/fGq5QkG3SHhY7i1vEEeecZ/2ifZrlz4kHn5jqUA3o/4BM96tN7R2iulLt4mL/vGKth8Qjpsf99/ICqijEnQca1dpnTj6nPs9+SkTybhsw0UAus8FlYwUdEULd/RLz3bCGNSpJ23rO7rNyRIFfUgAS5d8WcoN/FQXQ73t20VB3hHS/fBou69zjwy5r206gm4doKlgpCiYc7DUPqte4BUDGlQGkSjoGVK8e3J+xgKBOzmIfDY+uBM/6td672DtAga7cSEQRIpS0GEvphC1+5OL62i1jxbwQSYKujeaFHRvvJC7fscNStGTTSySeoTmojHKfStWnpTxLHipx0j97kXQsV9H7Qzn8RLQcn/e/xVd9fmph8noOwU9I2wi+RgdjcNyURRUPmE41aBS1IIOu9F3XuVbrmx/flZw/dytWLsL+mlW1siWqj7ovEMPNgRRzLbW1bhQeRdbvPDTYrDPbfAnzMR2klLUIfhBJq+CjmPjSULpki8pbRy6Wz9UYIIhP4mC7oMeHuXiPWuuiIGTH2gLEGTKhqDD/skzV+dkvD5zxn3itbneRlbSjaeboFdvOFu3qMDyUdADQ+lYUNiCjvfHJYu/oBQ63SlJ8WhdOWVu3hFJQXV01MOPmQg6iseFSeWanyt9tR7B126+LONxFCjoHgIpy4p+vl84O7ffz1435u1Auj+l8uusnelYsf1OzpJ6LPv3+Wv3iOMuGpMzwo5XN8s3F9vdDGzdTdBrNl0U2LF0C6Kg65Lyly9sQa/beo3yPIB57b0kNIKzRNG+ROM5kej3Upwyb6aCniwwMSDqd9yktNOyG4MjDfRUKm1Q/UBBV5HxsH3V9lKt/ttOd8Cm/vaXCTMF+nMHnfC+yKq8smWYgg5fMDAOLlRM5a5rF4auDapdgyrGyYZHikkxEDuM5xx1oqBHQzxMQe+sz1OeA0oWfU4M9rd6dDIh0F1Ndj7BtqDOKb4E/QOPMO68qjGfZT9eN3Q3r/TEgILuCZc6c2Flo/jpDU/GXiAsIUH3NIwaF1bqblqu/OMF+edzs39zQZX43ei3tMcWsPhkc4knQhixcGdJrZt7gfze07LaMVaNe+8O5DheCqGge6GVed6wBH2wv1kULzxSUa8OFl0N8zIyGgPKYGAZSxSHLfMOD2SUtiAEHc5htEOI9jAb7RfOeUcIjD6omyjouqQ08vX0DSQHXcm0FXk2RSL12Kff/Fyyi52GyxlnwTsvp4o8NOhCxsV73hEDBmGkuFsnzhIYXObrvxlnxKsUdLf7xmXjxBm3PCdumzRbzFy2XbR3yYcQ9ey05g6ddbMdY9VW8aJmScFlo6AHx9KppLAEHe+JVf//5EQmTka5/NZa9qSybEz4IhL+xgUJStDhBh6r4/G6ioW1HfVdJAZcPBfJkfSsfVKXbj0FXAtWZIj95CwKv4ZtxtSd9z47V3z14vi8p0V3p3P+/qLA+OdRpMRAh7JlKyqi3z91FD7YjxHWSHH240S93lL8sOMJp6dlTdQmCQp6NMjDEPSO2unK+lSy+BiBc4PfVLnmf5XHwMQvflKQgg47MJFQ7ebfKO21hLlyzc/EYJ/z+BK8Q/cTWZd9MYjMog0FyXHdz7vjJXHilY+IY859QEA8U++Io/6OscBxsYER1PDo9uW89YGM/uaCI+3nkkWfV1ZitAaNW8pVQUcrduukYl8W5n9YOelImPGjoIdJd3/ZQQv6YF+DKF7w74r6dEhyLPT9R8/8G6ZRxXSq9vqaXM87TGACmExT0IJu2dFc9JAomHOo3OYPHsWXLP6i6G1Xdx+moFs0uYycQPX6s5SVFxNcCGHGqHq6YHJR0BMD7Y6DYuBOKBuJgh4N9aAFXTUsLoS2esM5Aj0qgvrgtZ1U0OcclJwABhPBZJLCEnTYgsbCqsl9LF/QRgDdfmWJgi6jwm2REHDqZoLKi7Gd45RyUdCbi8crT4qIUVvlS1kJEQU9GuxBCnp79RTHumQJVlRLTASTSQpT0GEP2heVLj3OhdXBomnvvWmTu1DQM4ko9wmEAB6LqSZjwJ+6buvVgRwnqkJyTdAxa1Th3I8rTyzoWpTpXY7fmFDQ/RLU2z8oQR/orRFF8/9VWZeiEvHhxzkko5uGsAUdkUGXvap1p7nywlON1DYHFHS9es1cIRHAbEPD/2QH7V/PO1z0dewO6cjBF5tLgo4TsNtdQnvlK8FD1Cyxcfff99eTlK4+zUWjNUsIL5vqRIzeAtKU6JM2EC3M/ydp9ig39rSuk3IuX/FdT2ZUrz9TWo7yv58S0zDzYDhWzIzmJUUh6EP2DIrG3be7citb/nXR3zU0sBQF3UskmTdwAr1tmx0bgpQt+5rAbFRxSG8u2Cx+fdsLjp+8VbuMdwWTSbj1j8UEJNlMqtc1XkcXC8MH1axhPa3qoXmL5v+L9MTd310ahonaZeKiTSaoaP+im9CtUVaGKdswMYyXFJ2gD1kFkUbjUydeRfP/n8CY+BR0L5Fk3lAIODVeQSXG9IJOLTtDMeoAKxTjTLeWPiHK3/+W44kD8cBoXOhqk82Eiw7ZCa5o/ic933FhkBPUQfsHrY69JtUdLabQdOpypOKe7ScOVetOlXLG8KU6aaCnwrWRlyyO0W47OCmGOv4gT9SCjmPiYhCvuBy55B0mqtb+SpqH/dB1o8t8/gkkBkTVutOlFXFfBc47TNRtuzaweYP9G50bJUDI67Zd53oHYMUBJ4ZsvTdPJY5JPQryPiStMw27bk7N6vodjyst/1KXJYuOct13WIZEn6hY+QNpWRg8xCmpXiFgWk20ZchGcppvAcO26qSqtb+U8gDnksVHi7Jlx0f2wY1BanxTv2OCGPTo0EnZEHTYNdBbKypW/VDpQ6o/9u8UdJ3IMk9gBHDHV73hXI3KekiyewuGI2XyS2BQ4F2o/c8vW8cjvbbKl/0eMND9q9adorTdy911EIKerL8bz1Pa01Q4ytF3DM4j445taMtgvSN1LCTAH7sa5iq7K6Jblc5FXWvZ00qf8N5XJKId8RB4IGwqzrhh0EnZEvSkbYk+4TShjco3CrpOZJknYAIJ0Vw01nXSAqvSVqz6seismxWwDQdOca1lTylPbhbjwrkfSzbMMbEdAyausOyULSvXnJysH26TfGQu6Akx0FOdHGu7dMmxSlvQutvNBtQ61eNS+IbeBk177xmaBjQkIUTjMHQVRTsEpwFO3C5O4MtQD4mPyZkENKZ6Jv9UPJEqXvgZuV1zDhI6Tx6yKugfON1SOlEU5B2m9MP+f6CgZ1JbuE8gBNBVRtVS2F5RsV62/JsC70GZ9Amgq4t6xC48Dj1G4C7XRCFP9dJpoJJhdQWP5/OOUHzkj+6T+yv3QVl6J1ScfHVSsoFo3uF6J2kcO8iPywhlFku8hkgMdrm4g1nPfqr0I6hZz1yMUP6MOdYtf+zL4oWfda3zJgg6nIMdul0BKejK6sAfoiLQ3bxCDI0md4jyD1iY/xHRuOcurYkLorI7DsdBYyv7yQwNyvA4D61l4zJKH+583brX2f2Mct3ribS1/Jm0uERpr9OxCud+VPS2bXSt3i0lE5Q+BDkvuashDhlqt1yhtLF2y28d9sxOoziVQXi6hNcXTnHDb17roep49u0HxOQsdqe57o8AKi0aDeHuwKq4uLvENjzyZPJOAE81wBIng4Zdt4rupqWxvSjq6ywQTvMCWHUm6iUm08ikN4Bbr4+o/cDx0Ce+s+5d14rW17lX4CJbamPeEUOvDFxLCT8DLgSdWo2jQaAqmXKHbtmHp20YYEbK/IP+/BR0ixaXRhHAQDN4JC9Ewii74mYMRunD4DG5kpItgFee5HhSczrhBf1bcrbARH/GeNvKn1W24g/aVrfyMCaB3ox6g8pW/jgG2seYlNDwT+V78YJPCUwkI0umCfqQjYnkULDoHinziYIuiyS3kQAJmEsg0SdaSh93bBsgO9kFuQ1PPJQjwnkk19ex44NXTimjJ0Y0glqSSd4Ron7nn5XCZncn2aBVYV/FypOMfI2DLpuq+NdsutDuYnLdTEEfMhWTtmDyFrtPFHRpKLmRBEjAdAJord1RPVXgXWjZshM+aDgkv3Oxn/g8recdlmwxXf7+twUGWulqWBCKaGFQpabCBwR6daC/tNuoYZ58SBFgtKRHa300SMW70YGeKu1Q4+IDj+Vlx8YjeEw4YmJC33P0h5fZjW3t1W+mmW2yoMPY3vatyUatqT5R0NPCyA0kQAK5SCDzbmu5SIM+kUA8CRwUT7NpNQmQQJAEKOhB0mRZJJAdAhT07HDnUUnAKAIUdKPCQWNIICMCFPSMsHEnEsgtAhT03IonvTkwCVDQD8y402sSGEYAw4E27Pxr2qep4P5h+bhCAiRgLgEKurmxoWUkQAIkQAIkoE2Agq6NihlJgARIgARIwFwCFHRzY0PLSIAESIAESECbAAVdGxUzkgAJkAAJkIC5BCjo5saGlpEACZAACZCANgEKujYqZiQBEiABEiABcwlQ0M2NDS0jARIgARIgAW0CFHRtVMxIAiRAAiRAAuYSoKCbGxtaRgIkQAIkQALaBCjo2qiYkQRIgARIgATMJUBBNzc2tIwESIAESIAEtAlQ0LVRMSMJkAAJkAAJmEuAgm5ubGgZCZAACZAACWgToKBro2JGEiABEiABEjCXAAXd3NjQMhIgARIgARLQJkBB10bFjCRAAiRAAiRgLgEKurmxoWUkQAIkQAIkoE2Agq6NihlJgARIgARIwFwCFHRzY0PLSIAESIAESECbAAVdGxUzkgAJkAAJkIC5BCjo5saGlpEACZAACZCANgEKujYqZiQBEiABEiABcwlQ0M2NDS0jARIgARIgAW0CFHRtVMxIAiRAAiRAAuYSoKCbGxtaRgIkQAIkQALaBCjo2qiYkQRIgARIgATMJUBBNzc2tIwESIAESIAEtAlQ0LVRMSMJkAAJkAAJmEuAgm5ubGgZCZAACZAACWgToKBro2JGEiABEiABEjCXAAXd3NjQMhIgARIgARLQJkBB10bFjCRAAiRAAiRgLgEKurmxoWUkQAIkQAIkoE2Agq6NihlJgARIgARIwFwCFHRzY0PLSIAESIAESECbAAVdGxUzkgAJkAAJkIC5BCjo5saGlpEACZAACZCANgEKujYqZiQBEiABEiABcwlQ0M2NDS0jARIgARIgAW0CFHRtVMxIAiRAAiRAAuYSoKCbGxtaRgIkQAIkQALaBCjo2qiYkQRIgARIgATMJUBBNzc2tIwESIAESIAEtAlQ0LVRMSMJkAAJkAAJmEuAgm5ubGgZCZAACZAACWgToKBro2JGEiABEiABEjCXAAXd3NjQMhIgARIgARLQJkBB10bFjCRAAiRAAiRgLgEKurmxoWUkQAIkQAIkoE2Agq6NihlJgARIgARIwFwCFHRzY0PLSIAESIAESECbAAVdGxUzkgAJkAAJkIC5BCjo5saGlpEACZAACZCANgEKujYqZiQBEiABEiABcwn8f7wUEXLI/9phAAAAAElFTkSuQmCC)"
      ]
    },
    {
      "cell_type": "code",
      "metadata": {
        "colab": {
          "base_uri": "https://localhost:8080/",
          "height": 501
        },
        "cellView": "form",
        "id": "bN_XY_hPZnBE",
        "outputId": "80c57788-ec81-497c-d2cf-ea64dddd8008"
      },
      "source": [
        "#@title Curso Python em 90 minutos\n",
        "from IPython.display import YouTubeVideo\n",
        "YouTubeVideo('EyFzHTWiOIo', width=854, height=480)"
      ],
      "execution_count": null,
      "outputs": [
        {
          "output_type": "execute_result",
          "data": {
            "text/html": [
              "\n",
              "        <iframe\n",
              "            width=\"854\"\n",
              "            height=\"480\"\n",
              "            src=\"https://www.youtube.com/embed/EyFzHTWiOIo\"\n",
              "            frameborder=\"0\"\n",
              "            allowfullscreen\n",
              "        ></iframe>\n",
              "        "
            ],
            "text/plain": [
              "<IPython.lib.display.YouTubeVideo at 0x7f2c97d29290>"
            ]
          },
          "metadata": {
            "tags": []
          },
          "execution_count": 1
        }
      ]
    },
    {
      "cell_type": "markdown",
      "metadata": {
        "id": "yrrP9PJGma_B"
      },
      "source": [
        "# Curso Python em 90 minutos\n"
      ]
    },
    {
      "cell_type": "markdown",
      "metadata": {
        "id": "Eg4RVe-8WO_d"
      },
      "source": [
        "Aula em vídeo:\n",
        "\n",
        "https://youtu.be/EyFzHTWiOIo"
      ]
    },
    {
      "cell_type": "markdown",
      "metadata": {
        "id": "GlYYu_RQ9xIr"
      },
      "source": [
        "###Olá Mundo"
      ]
    },
    {
      "cell_type": "markdown",
      "metadata": {
        "id": "SZZSM9_29zHO"
      },
      "source": [
        ">Nosso primeiro comando em Python"
      ]
    },
    {
      "cell_type": "code",
      "metadata": {
        "id": "cJ5Idhcf9162"
      },
      "source": [
        "print(\"Olá Mundo\")"
      ],
      "execution_count": null,
      "outputs": []
    },
    {
      "cell_type": "markdown",
      "metadata": {
        "id": "J5UE-f5Q94tF"
      },
      "source": [
        "###Strings"
      ]
    },
    {
      "cell_type": "markdown",
      "metadata": {
        "id": "vPWrwP0i95_J"
      },
      "source": [
        ">Concatenação com operador ``+``"
      ]
    },
    {
      "cell_type": "code",
      "metadata": {
        "id": "3AucCGSQ9-CN"
      },
      "source": [
        "print(\"Curso\" + \" de Python\")"
      ],
      "execution_count": null,
      "outputs": []
    },
    {
      "cell_type": "markdown",
      "metadata": {
        "id": "KUZL7d0s-HWO"
      },
      "source": [
        ">Substituindo valores com ``format()``"
      ]
    },
    {
      "cell_type": "code",
      "metadata": {
        "id": "QltL9Dve-Lld"
      },
      "source": [
        "print(\"Aula {} do Curso de {}\".format(1, \"Python\"))"
      ],
      "execution_count": null,
      "outputs": []
    },
    {
      "cell_type": "markdown",
      "metadata": {
        "id": "o9sn8owX-UBt"
      },
      "source": [
        ">Transformando para minúsculas com ``lower()``"
      ]
    },
    {
      "cell_type": "code",
      "metadata": {
        "id": "Zqxc2rc3-Yhk"
      },
      "source": [
        "print(\"Curso de Python para Iniciantes\".lower())"
      ],
      "execution_count": null,
      "outputs": []
    },
    {
      "cell_type": "markdown",
      "metadata": {
        "id": "zJbO5NZn-f3l"
      },
      "source": [
        ">Transformando para maiúsculas com ``upper``"
      ]
    },
    {
      "cell_type": "code",
      "metadata": {
        "id": "PVahkuHp-k6t"
      },
      "source": [
        "print(\"Curso de Python para Iniciantes\".upper())"
      ],
      "execution_count": null,
      "outputs": []
    },
    {
      "cell_type": "markdown",
      "metadata": {
        "id": "YU3TRNOK-oZ-"
      },
      "source": [
        ">Removendo espaços em branco com ``strip()``"
      ]
    },
    {
      "cell_type": "code",
      "metadata": {
        "id": "O9G-wu7R-r-5"
      },
      "source": [
        "print(\"     Curso de Python para Iniciantes   \".strip())"
      ],
      "execution_count": null,
      "outputs": []
    },
    {
      "cell_type": "markdown",
      "metadata": {
        "id": "v1w8_rbx-1pQ"
      },
      "source": [
        ">O tipo ``str``"
      ]
    },
    {
      "cell_type": "code",
      "metadata": {
        "id": "F2mWfFlr-3kF"
      },
      "source": [
        "type(\"Curso de Python para Iniciantes\")"
      ],
      "execution_count": null,
      "outputs": []
    },
    {
      "cell_type": "markdown",
      "metadata": {
        "id": "rRU7O3L2-6Xd"
      },
      "source": [
        "###Lidando com números e Operadores Matemáticos"
      ]
    },
    {
      "cell_type": "markdown",
      "metadata": {
        "id": "NyJj5Qg9-_u1"
      },
      "source": [
        ">Tipos Numéricos"
      ]
    },
    {
      "cell_type": "code",
      "metadata": {
        "id": "c02YBn3w_B_N"
      },
      "source": [
        "type(2)"
      ],
      "execution_count": null,
      "outputs": []
    },
    {
      "cell_type": "code",
      "metadata": {
        "id": "-MK0N-yx_Ddl"
      },
      "source": [
        "type(2.5)"
      ],
      "execution_count": null,
      "outputs": []
    },
    {
      "cell_type": "markdown",
      "metadata": {
        "id": "X00hZX13_IA9"
      },
      "source": [
        ">Soma"
      ]
    },
    {
      "cell_type": "code",
      "metadata": {
        "id": "9pkCnuMv_JDt"
      },
      "source": [
        "2 + 2"
      ],
      "execution_count": null,
      "outputs": []
    },
    {
      "cell_type": "markdown",
      "metadata": {
        "id": "cXXLxBWM_LX1"
      },
      "source": [
        ">Subtração"
      ]
    },
    {
      "cell_type": "code",
      "metadata": {
        "id": "7MNFeqTV_M2V"
      },
      "source": [
        "10 - 7"
      ],
      "execution_count": null,
      "outputs": []
    },
    {
      "cell_type": "markdown",
      "metadata": {
        "id": "Ck9PpdRs_O0I"
      },
      "source": [
        ">Multiplicação"
      ]
    },
    {
      "cell_type": "code",
      "metadata": {
        "id": "zLoHF31r_QOF"
      },
      "source": [
        "7*3"
      ],
      "execution_count": null,
      "outputs": []
    },
    {
      "cell_type": "markdown",
      "metadata": {
        "id": "8M-v9pgl_Sv9"
      },
      "source": [
        ">Exponenciação"
      ]
    },
    {
      "cell_type": "code",
      "metadata": {
        "id": "TdoAQM3E_U8U"
      },
      "source": [
        "5 ** 2"
      ],
      "execution_count": null,
      "outputs": []
    },
    {
      "cell_type": "markdown",
      "metadata": {
        "id": "AOUU04eD_XsA"
      },
      "source": [
        ">Divisão"
      ]
    },
    {
      "cell_type": "code",
      "metadata": {
        "id": "P2AqeLsr_ZLk"
      },
      "source": [
        "5 / 2"
      ],
      "execution_count": null,
      "outputs": []
    },
    {
      "cell_type": "code",
      "metadata": {
        "id": "wn6gzB1b_cH8"
      },
      "source": [
        "type(5/2)"
      ],
      "execution_count": null,
      "outputs": []
    },
    {
      "cell_type": "markdown",
      "metadata": {
        "id": "GsEi_Peh_lv9"
      },
      "source": [
        ">>Divisão inteira"
      ]
    },
    {
      "cell_type": "code",
      "metadata": {
        "id": "daSYNb9A_n4d"
      },
      "source": [
        "5 // 2"
      ],
      "execution_count": null,
      "outputs": []
    },
    {
      "cell_type": "markdown",
      "metadata": {
        "id": "C7WfdiDT_qHk"
      },
      "source": [
        ">>Resto do divisão"
      ]
    },
    {
      "cell_type": "code",
      "metadata": {
        "id": "Jk7a32fn_rgE"
      },
      "source": [
        "5 % 2"
      ],
      "execution_count": null,
      "outputs": []
    },
    {
      "cell_type": "markdown",
      "metadata": {
        "id": "6bBVKp6Z_vAN"
      },
      "source": [
        ">Expressões"
      ]
    },
    {
      "cell_type": "code",
      "metadata": {
        "id": "1fG8eFQZ_xic"
      },
      "source": [
        "10 - 5 + 20 -4"
      ],
      "execution_count": null,
      "outputs": []
    },
    {
      "cell_type": "code",
      "metadata": {
        "id": "td5vr4RH_zpT"
      },
      "source": [
        "((2+3)*(4-2)) ** 2"
      ],
      "execution_count": null,
      "outputs": []
    },
    {
      "cell_type": "markdown",
      "metadata": {
        "id": "Jgv-JTLG_6X2"
      },
      "source": [
        "###Variáveis"
      ]
    },
    {
      "cell_type": "markdown",
      "metadata": {
        "id": "GoqpKapA_7-V"
      },
      "source": [
        ">Variáveis de texto"
      ]
    },
    {
      "cell_type": "code",
      "metadata": {
        "id": "KSU1ktEc_94j"
      },
      "source": [
        "texto = \"Curso de Python para Iniciantes\""
      ],
      "execution_count": null,
      "outputs": []
    },
    {
      "cell_type": "code",
      "metadata": {
        "id": "XeqDGfWOAAs0"
      },
      "source": [
        "texto"
      ],
      "execution_count": null,
      "outputs": []
    },
    {
      "cell_type": "code",
      "metadata": {
        "id": "1MxQhHOGACsE"
      },
      "source": [
        "texto = texto + \" - Aula 02\"\n",
        "texto"
      ],
      "execution_count": null,
      "outputs": []
    },
    {
      "cell_type": "markdown",
      "metadata": {
        "id": "f4zx07haAKre"
      },
      "source": [
        ">Variáveis numéricas"
      ]
    },
    {
      "cell_type": "code",
      "metadata": {
        "id": "GEXW2NUDAN6s"
      },
      "source": [
        "soma = 0\n",
        "soma"
      ],
      "execution_count": null,
      "outputs": []
    },
    {
      "cell_type": "markdown",
      "metadata": {
        "id": "f_Ikii_5AQ5A"
      },
      "source": [
        ">>Incrementando / Decrementando"
      ]
    },
    {
      "cell_type": "code",
      "metadata": {
        "id": "JeIIp8A3AT98"
      },
      "source": [
        "soma = soma + 1 \n",
        "soma"
      ],
      "execution_count": null,
      "outputs": []
    },
    {
      "cell_type": "code",
      "metadata": {
        "id": "K-GDT7-oAV91"
      },
      "source": [
        "soma += 1\n",
        "soma"
      ],
      "execution_count": null,
      "outputs": []
    },
    {
      "cell_type": "code",
      "metadata": {
        "id": "ge8btTZRAZrU"
      },
      "source": [
        "soma -= 1\n",
        "soma"
      ],
      "execution_count": null,
      "outputs": []
    },
    {
      "cell_type": "code",
      "metadata": {
        "id": "779pbLCIAcdU"
      },
      "source": [
        "soma = soma -1"
      ],
      "execution_count": null,
      "outputs": []
    },
    {
      "cell_type": "code",
      "metadata": {
        "id": "x99HfCUmAgc8"
      },
      "source": [
        "soma"
      ],
      "execution_count": null,
      "outputs": []
    },
    {
      "cell_type": "markdown",
      "metadata": {
        "id": "yrEilVhIAkEE"
      },
      "source": [
        "###Listas"
      ]
    },
    {
      "cell_type": "markdown",
      "metadata": {
        "id": "LAuUNA3fAlvt"
      },
      "source": [
        ">Criando e selecionando Elementos"
      ]
    },
    {
      "cell_type": "code",
      "metadata": {
        "id": "ZGkOFitiAobD"
      },
      "source": [
        "frutas = ['maça', 'banana', 'laranja']\n",
        "frutas"
      ],
      "execution_count": null,
      "outputs": []
    },
    {
      "cell_type": "code",
      "metadata": {
        "id": "O0r8eXioAuV8"
      },
      "source": [
        "frutas[2]"
      ],
      "execution_count": null,
      "outputs": []
    },
    {
      "cell_type": "code",
      "metadata": {
        "id": "ORQEgzXcA03M"
      },
      "source": [
        "numeros = [1,2,3,4,5]\n",
        "numeros"
      ],
      "execution_count": null,
      "outputs": []
    },
    {
      "cell_type": "code",
      "metadata": {
        "id": "Xc0J87IIA4QE"
      },
      "source": [
        "lista = ['a', 'b', 'c', frutas, numeros]\n",
        "lista"
      ],
      "execution_count": null,
      "outputs": []
    },
    {
      "cell_type": "code",
      "metadata": {
        "id": "rqdbN8sDBCZt"
      },
      "source": [
        "lista[3]"
      ],
      "execution_count": null,
      "outputs": []
    },
    {
      "cell_type": "code",
      "metadata": {
        "id": "2VUIsz98BKTb"
      },
      "source": [
        "lista[3][1]"
      ],
      "execution_count": null,
      "outputs": []
    },
    {
      "cell_type": "code",
      "metadata": {
        "id": "oxihBkXkBOu0"
      },
      "source": [
        "lista[:2]"
      ],
      "execution_count": null,
      "outputs": []
    },
    {
      "cell_type": "code",
      "metadata": {
        "id": "8lwLUokjBTdU"
      },
      "source": [
        "lista[2:]"
      ],
      "execution_count": null,
      "outputs": []
    },
    {
      "cell_type": "code",
      "metadata": {
        "id": "j7Y4dCI_BU3c"
      },
      "source": [
        "lista[2:4]"
      ],
      "execution_count": null,
      "outputs": []
    },
    {
      "cell_type": "markdown",
      "metadata": {
        "id": "Wh508Z7bBbIj"
      },
      "source": [
        ">Adicionando e removendo elementos"
      ]
    },
    {
      "cell_type": "code",
      "metadata": {
        "id": "mSf0_L2RBdy0"
      },
      "source": [
        "frutas.append('goiaba')\n",
        "frutas"
      ],
      "execution_count": null,
      "outputs": []
    },
    {
      "cell_type": "code",
      "metadata": {
        "id": "7Gos5rnfBizL"
      },
      "source": [
        "frutas.pop()\n",
        "frutas"
      ],
      "execution_count": null,
      "outputs": []
    },
    {
      "cell_type": "code",
      "metadata": {
        "id": "puaaebPSBpnt"
      },
      "source": [
        "frutas.pop(0)\n",
        "frutas"
      ],
      "execution_count": null,
      "outputs": []
    },
    {
      "cell_type": "markdown",
      "metadata": {
        "id": "Gizis5fyBvbc"
      },
      "source": [
        ">Alterando Elementos"
      ]
    },
    {
      "cell_type": "code",
      "metadata": {
        "id": "h9Weq6KUByE7"
      },
      "source": [
        "frutas[0] = 'pera'\n",
        "frutas"
      ],
      "execution_count": null,
      "outputs": []
    },
    {
      "cell_type": "markdown",
      "metadata": {
        "id": "t9fLZ9SdB9jo"
      },
      "source": [
        "###Tuplas"
      ]
    },
    {
      "cell_type": "code",
      "metadata": {
        "id": "LVDIMzBfB_RD"
      },
      "source": [
        "marcas = 'gm', 'ford', 'fiat', 'vw'\n",
        "marcas"
      ],
      "execution_count": null,
      "outputs": []
    },
    {
      "cell_type": "code",
      "metadata": {
        "id": "DkT11NHjCGqk"
      },
      "source": [
        "marcas[2]"
      ],
      "execution_count": null,
      "outputs": []
    },
    {
      "cell_type": "markdown",
      "metadata": {
        "id": "qs2D_55bCLDc"
      },
      "source": [
        ">A diferença principal entre Listas e Tuplas é que os elementos de tuplas não podem ser alterados"
      ]
    },
    {
      "cell_type": "code",
      "metadata": {
        "id": "K0KifjDkCSC7"
      },
      "source": [
        "marcas[0] = 'ferrari'"
      ],
      "execution_count": null,
      "outputs": []
    },
    {
      "cell_type": "markdown",
      "metadata": {
        "id": "DI-stsduCXKV"
      },
      "source": [
        "###Dicionários"
      ]
    },
    {
      "cell_type": "code",
      "metadata": {
        "id": "-XPOk5ZHCZDa"
      },
      "source": [
        "notas = {'portugues':8, 'ingles':7.4, 'matematica':9}\n",
        "notas"
      ],
      "execution_count": null,
      "outputs": []
    },
    {
      "cell_type": "code",
      "metadata": {
        "id": "VMXsliHcCip7"
      },
      "source": [
        "pessoa = {'nome':'João', 'idade':25, 'profissão':'pintor'}\n",
        "pessoa"
      ],
      "execution_count": null,
      "outputs": []
    },
    {
      "cell_type": "code",
      "metadata": {
        "id": "L58Xv9jjCsCr"
      },
      "source": [
        "times = {1:'Flamengo', 2:'São Paulo', 3:'Grêmio'}\n",
        "times"
      ],
      "execution_count": null,
      "outputs": []
    },
    {
      "cell_type": "markdown",
      "metadata": {
        "id": "NXf3Wq66C2L8"
      },
      "source": [
        ">Selecionando Elementos"
      ]
    },
    {
      "cell_type": "code",
      "metadata": {
        "id": "6kz5mt9pC6_E"
      },
      "source": [
        "notas['matematica']"
      ],
      "execution_count": null,
      "outputs": []
    },
    {
      "cell_type": "code",
      "metadata": {
        "id": "VXWjz9LpC-97"
      },
      "source": [
        "pessoa['nome']"
      ],
      "execution_count": null,
      "outputs": []
    },
    {
      "cell_type": "code",
      "metadata": {
        "id": "WBR1WbzmDGj7"
      },
      "source": [
        "times[3]"
      ],
      "execution_count": null,
      "outputs": []
    },
    {
      "cell_type": "markdown",
      "metadata": {
        "id": "p06riWA5DQM7"
      },
      "source": [
        ">Alterando elementos"
      ]
    },
    {
      "cell_type": "code",
      "metadata": {
        "id": "KwSyNxFWDR5S"
      },
      "source": [
        "notas['matematica'] = 10\n",
        "notas"
      ],
      "execution_count": null,
      "outputs": []
    },
    {
      "cell_type": "code",
      "metadata": {
        "id": "tKHtGjdKDWr-"
      },
      "source": [
        "times[2] = \"Palmeiras\"\n",
        "times"
      ],
      "execution_count": null,
      "outputs": []
    },
    {
      "cell_type": "code",
      "metadata": {
        "id": "lpJM1NKbDdPj"
      },
      "source": [
        ""
      ],
      "execution_count": null,
      "outputs": []
    },
    {
      "cell_type": "markdown",
      "metadata": {
        "id": "jHdaqgogDhGR"
      },
      "source": [
        ">Adicionando Elementos"
      ]
    },
    {
      "cell_type": "code",
      "metadata": {
        "id": "oyFTe6fLDitR"
      },
      "source": [
        "notas[\"geografia\"] = 7.1\n",
        "notas"
      ],
      "execution_count": null,
      "outputs": []
    },
    {
      "cell_type": "code",
      "metadata": {
        "id": "8mSKtU1cDmqC"
      },
      "source": [
        "times[85] = \"Vasco\"\n",
        "times"
      ],
      "execution_count": null,
      "outputs": []
    },
    {
      "cell_type": "markdown",
      "metadata": {
        "id": "hXUy7Bb8DuFd"
      },
      "source": [
        "###If /Else"
      ]
    },
    {
      "cell_type": "code",
      "metadata": {
        "id": "wZwFH-DeDwLz"
      },
      "source": [
        "x = 1\n",
        "y = 5"
      ],
      "execution_count": null,
      "outputs": []
    },
    {
      "cell_type": "markdown",
      "metadata": {
        "id": "XvRbB2X8D0rb"
      },
      "source": [
        ">Operadores Lógicos"
      ]
    },
    {
      "cell_type": "code",
      "metadata": {
        "id": "Q8vqGOO8D3HL"
      },
      "source": [
        "x == 1"
      ],
      "execution_count": null,
      "outputs": []
    },
    {
      "cell_type": "code",
      "metadata": {
        "id": "kG4XR-uyD4Ei"
      },
      "source": [
        "x == 2"
      ],
      "execution_count": null,
      "outputs": []
    },
    {
      "cell_type": "code",
      "metadata": {
        "id": "OQ2RHwbeD5Oj"
      },
      "source": [
        "x < 0"
      ],
      "execution_count": null,
      "outputs": []
    },
    {
      "cell_type": "code",
      "metadata": {
        "id": "7IbOn9dPD6dK"
      },
      "source": [
        "x >= 0"
      ],
      "execution_count": null,
      "outputs": []
    },
    {
      "cell_type": "code",
      "metadata": {
        "id": "jqeFsRK3D8Ek"
      },
      "source": [
        "x != 0"
      ],
      "execution_count": null,
      "outputs": []
    },
    {
      "cell_type": "code",
      "metadata": {
        "id": "ByMURRoYD-Ui"
      },
      "source": [
        "(x > 0) and (y < 2)"
      ],
      "execution_count": null,
      "outputs": []
    },
    {
      "cell_type": "code",
      "metadata": {
        "id": "1FX3ho3yEDKS"
      },
      "source": [
        "(x > 0) or (y < 2)"
      ],
      "execution_count": null,
      "outputs": []
    },
    {
      "cell_type": "markdown",
      "metadata": {
        "id": "lWlD_ZbHEJGb"
      },
      "source": [
        ">Identação Obrigatória"
      ]
    },
    {
      "cell_type": "code",
      "metadata": {
        "id": "BNEGm3snELSE"
      },
      "source": [
        "x = 5\n",
        "if (x > 0):\n",
        "  print(\"x é maior que zero\") \n",
        "else:\n",
        "  print(\"x é menor ou igual a zero\")"
      ],
      "execution_count": null,
      "outputs": []
    },
    {
      "cell_type": "code",
      "metadata": {
        "id": "e5eHXvY-EtSm"
      },
      "source": [
        "x = -5\n",
        "if (x > 0):\n",
        "  print(\"x é maior que zero\") \n",
        "elif(x == 0):\n",
        "  print(\"x é zero\")\n",
        "else:\n",
        "  print(\"x é menor\")"
      ],
      "execution_count": null,
      "outputs": []
    },
    {
      "cell_type": "markdown",
      "metadata": {
        "id": "FWgc9fYjIulT"
      },
      "source": [
        "###FOR"
      ]
    },
    {
      "cell_type": "code",
      "metadata": {
        "id": "MihSEYyXIwAA"
      },
      "source": [
        "contador = [0,1,2,3,4,5,6,7,8,9]\n",
        "contador"
      ],
      "execution_count": null,
      "outputs": []
    },
    {
      "cell_type": "code",
      "metadata": {
        "id": "w4ey8TdyI0Yw"
      },
      "source": [
        "for valor in contador:\n",
        "  print(valor)"
      ],
      "execution_count": null,
      "outputs": []
    },
    {
      "cell_type": "code",
      "metadata": {
        "id": "uQluBdaHI4WA"
      },
      "source": [
        "range?"
      ],
      "execution_count": null,
      "outputs": []
    },
    {
      "cell_type": "code",
      "metadata": {
        "id": "PIBlnmC8I68o"
      },
      "source": [
        "for valor in range(10):\n",
        "  print(valor)"
      ],
      "execution_count": null,
      "outputs": []
    },
    {
      "cell_type": "code",
      "metadata": {
        "id": "tVxeupyDJCrw"
      },
      "source": [
        "for i in range(4,18,2):\n",
        "  print(i)"
      ],
      "execution_count": null,
      "outputs": []
    },
    {
      "cell_type": "code",
      "metadata": {
        "id": "rfg1_WAFJJ2I"
      },
      "source": [
        "cidades = ['São Paulo', 'Brasília', 'Curitiba']\n",
        "cidades"
      ],
      "execution_count": null,
      "outputs": []
    },
    {
      "cell_type": "code",
      "metadata": {
        "id": "0eSxVOAzJSpQ"
      },
      "source": [
        "for cidade in cidades:\n",
        "  print(\"Já morei em \"+cidade)"
      ],
      "execution_count": null,
      "outputs": []
    },
    {
      "cell_type": "code",
      "metadata": {
        "id": "TbB9UxQ3JYu4"
      },
      "source": [
        "minha_lista = [1,2,3,'cachorro','gato','papagaio']\n",
        "minha_lista"
      ],
      "execution_count": null,
      "outputs": []
    },
    {
      "cell_type": "code",
      "metadata": {
        "id": "T1MveG8WJgew"
      },
      "source": [
        "for cada_item in minha_lista:\n",
        "  print(cada_item)"
      ],
      "execution_count": null,
      "outputs": []
    },
    {
      "cell_type": "markdown",
      "metadata": {
        "id": "DvkM3LAuJnd_"
      },
      "source": [
        "###WHILE"
      ]
    },
    {
      "cell_type": "code",
      "metadata": {
        "id": "0NB-FBN8Jo3X"
      },
      "source": [
        "x = 0\n",
        "while x < 5:\n",
        "  print(x)\n",
        "  x = x + 1"
      ],
      "execution_count": null,
      "outputs": []
    },
    {
      "cell_type": "markdown",
      "metadata": {
        "id": "IVkSdvvKJzOj"
      },
      "source": [
        "###List Comprehensions"
      ]
    },
    {
      "cell_type": "code",
      "metadata": {
        "id": "CINdH-V_J3L_"
      },
      "source": [
        "quadrados = []\n",
        "for numero in range(10):\n",
        "  quadrados.append(numero**2)\n",
        "\n",
        "quadrados"
      ],
      "execution_count": null,
      "outputs": []
    },
    {
      "cell_type": "markdown",
      "metadata": {
        "id": "TK0QKYPaKDbZ"
      },
      "source": [
        ">Uma maneira mais concisa de criar listas"
      ]
    },
    {
      "cell_type": "code",
      "metadata": {
        "id": "KcE-ActiKH-f"
      },
      "source": [
        "quad = [x**2 for x in range(10)]\n",
        "quad"
      ],
      "execution_count": null,
      "outputs": []
    },
    {
      "cell_type": "markdown",
      "metadata": {
        "id": "kfatEmzSKa9I"
      },
      "source": [
        "###Funções"
      ]
    },
    {
      "cell_type": "markdown",
      "metadata": {
        "id": "gOajgTI3Kcp5"
      },
      "source": [
        ">Função que não retorna valor"
      ]
    },
    {
      "cell_type": "code",
      "metadata": {
        "id": "uqrtCOGiKg8X"
      },
      "source": [
        "def exibir_mensagem(parametro):\n",
        "  print(\"Mensagem >> \"+parametro)"
      ],
      "execution_count": null,
      "outputs": []
    },
    {
      "cell_type": "code",
      "metadata": {
        "id": "rFj2mPRrKpUv"
      },
      "source": [
        "exibir_mensagem('Olá!!!')"
      ],
      "execution_count": null,
      "outputs": []
    },
    {
      "cell_type": "code",
      "metadata": {
        "id": "N6bgDPNbKsRg"
      },
      "source": [
        "exibir_mensagem('Ola Mundo!')"
      ],
      "execution_count": null,
      "outputs": []
    },
    {
      "cell_type": "code",
      "metadata": {
        "id": "ZD1jk5VXK2Km"
      },
      "source": [
        "def exibir_dados(nome, idade):\n",
        "  print(\"Meu nome é {}\".format(nome))\n",
        "  print(\"Tenho {} anos.\".format(idade))"
      ],
      "execution_count": null,
      "outputs": []
    },
    {
      "cell_type": "code",
      "metadata": {
        "id": "o1S8eVq9LEo_"
      },
      "source": [
        "exibir_dados('Maria', 70)"
      ],
      "execution_count": null,
      "outputs": []
    },
    {
      "cell_type": "code",
      "metadata": {
        "id": "F0q2-u_4LKUf"
      },
      "source": [
        "exibir_dados('Paulo', 12)"
      ],
      "execution_count": null,
      "outputs": []
    },
    {
      "cell_type": "code",
      "metadata": {
        "id": "o5RecLIuLNwn"
      },
      "source": [
        ""
      ],
      "execution_count": null,
      "outputs": []
    },
    {
      "cell_type": "markdown",
      "metadata": {
        "id": "Zb_MLJtcLPYn"
      },
      "source": [
        ">Função que retorna valor"
      ]
    },
    {
      "cell_type": "code",
      "metadata": {
        "id": "CSesVFpxLRMv"
      },
      "source": [
        "def elevar_ao_quadrado(numero):\n",
        "  return numero ** 2"
      ],
      "execution_count": null,
      "outputs": []
    },
    {
      "cell_type": "code",
      "metadata": {
        "id": "BHaJecMNLY02"
      },
      "source": [
        "elevar_ao_quadrado(2)"
      ],
      "execution_count": null,
      "outputs": []
    },
    {
      "cell_type": "code",
      "metadata": {
        "id": "LsR8MI0lLaTn"
      },
      "source": [
        "elevar_ao_quadrado(25)"
      ],
      "execution_count": null,
      "outputs": []
    },
    {
      "cell_type": "code",
      "metadata": {
        "id": "rK-jcn3nkM6a"
      },
      "source": [
        ""
      ],
      "execution_count": null,
      "outputs": []
    },
    {
      "cell_type": "markdown",
      "metadata": {
        "id": "hW-SggJnkOMC"
      },
      "source": [
        "### Bibliotecas"
      ]
    },
    {
      "cell_type": "markdown",
      "metadata": {
        "id": "PKQX8tRm0qWG"
      },
      "source": [
        ">Já Instaladas no Ambiente (Google Colab)"
      ]
    },
    {
      "cell_type": "code",
      "metadata": {
        "id": "ySATJrK90ssw"
      },
      "source": [
        "import numpy"
      ],
      "execution_count": null,
      "outputs": []
    },
    {
      "cell_type": "code",
      "metadata": {
        "id": "FOXSJPTrSwU3"
      },
      "source": [
        "numpy.ones(5)"
      ],
      "execution_count": null,
      "outputs": []
    },
    {
      "cell_type": "code",
      "metadata": {
        "id": "EzkJY4eZSwY-"
      },
      "source": [
        "import numpy as np"
      ],
      "execution_count": null,
      "outputs": []
    },
    {
      "cell_type": "code",
      "metadata": {
        "id": "pr1yl2XcSwpL"
      },
      "source": [
        "np.ones(5)"
      ],
      "execution_count": null,
      "outputs": []
    },
    {
      "cell_type": "code",
      "metadata": {
        "id": "6INTSW0rSFpN"
      },
      "source": [
        "from numpy import ones"
      ],
      "execution_count": null,
      "outputs": []
    },
    {
      "cell_type": "code",
      "metadata": {
        "id": "Pgk_VZh3Sxo4"
      },
      "source": [
        "ones(5)"
      ],
      "execution_count": null,
      "outputs": []
    },
    {
      "cell_type": "markdown",
      "metadata": {
        "id": "l_FnT1ZhR5JC"
      },
      "source": [
        ">Instalando Bibliotecas Externas"
      ]
    },
    {
      "cell_type": "code",
      "metadata": {
        "id": "UWrpADA7R_Yz"
      },
      "source": [
        "!pip install yfinance"
      ],
      "execution_count": null,
      "outputs": []
    },
    {
      "cell_type": "code",
      "metadata": {
        "id": "QzwZqtFWTuL-"
      },
      "source": [
        "import yfinance as yf"
      ],
      "execution_count": null,
      "outputs": []
    },
    {
      "cell_type": "code",
      "metadata": {
        "id": "xpby4tfvTx7X"
      },
      "source": [
        "yf.download('^BVSP')"
      ],
      "execution_count": null,
      "outputs": []
    },
    {
      "cell_type": "markdown",
      "metadata": {
        "id": "KOSW2gYeWXJH"
      },
      "source": [
        "### Exemplo Prático 01 - Baixando Cotações de Empresas da Bolsa"
      ]
    },
    {
      "cell_type": "code",
      "metadata": {
        "id": "Zy3FhG36PnIt"
      },
      "source": [
        "!pip install yfinance"
      ],
      "execution_count": null,
      "outputs": []
    },
    {
      "cell_type": "code",
      "metadata": {
        "id": "1mEfqmbqQpKR"
      },
      "source": [
        "import yfinance as yf\n",
        "import matplotlib.pyplot as plt"
      ],
      "execution_count": null,
      "outputs": []
    },
    {
      "cell_type": "code",
      "metadata": {
        "colab": {
          "base_uri": "https://localhost:8080/"
        },
        "id": "VnTAMAsxQuMw",
        "outputId": "fea75c89-17ff-4cb1-9ec6-dca9158ab092"
      },
      "source": [
        "vale3 = yf.download(\"VALE3.SA\")"
      ],
      "execution_count": null,
      "outputs": [
        {
          "output_type": "stream",
          "text": [
            "\r[*********************100%***********************]  1 of 1 completed\n"
          ],
          "name": "stdout"
        }
      ]
    },
    {
      "cell_type": "code",
      "metadata": {
        "colab": {
          "base_uri": "https://localhost:8080/",
          "height": 452
        },
        "id": "HsrBwv7SQ2Ko",
        "outputId": "3045435a-39ac-47f7-bd6e-479f67e2a2e1"
      },
      "source": [
        "vale3"
      ],
      "execution_count": null,
      "outputs": [
        {
          "output_type": "execute_result",
          "data": {
            "text/html": [
              "<div>\n",
              "<style scoped>\n",
              "    .dataframe tbody tr th:only-of-type {\n",
              "        vertical-align: middle;\n",
              "    }\n",
              "\n",
              "    .dataframe tbody tr th {\n",
              "        vertical-align: top;\n",
              "    }\n",
              "\n",
              "    .dataframe thead th {\n",
              "        text-align: right;\n",
              "    }\n",
              "</style>\n",
              "<table border=\"1\" class=\"dataframe\">\n",
              "  <thead>\n",
              "    <tr style=\"text-align: right;\">\n",
              "      <th></th>\n",
              "      <th>Open</th>\n",
              "      <th>High</th>\n",
              "      <th>Low</th>\n",
              "      <th>Close</th>\n",
              "      <th>Adj Close</th>\n",
              "      <th>Volume</th>\n",
              "    </tr>\n",
              "    <tr>\n",
              "      <th>Date</th>\n",
              "      <th></th>\n",
              "      <th></th>\n",
              "      <th></th>\n",
              "      <th></th>\n",
              "      <th></th>\n",
              "      <th></th>\n",
              "    </tr>\n",
              "  </thead>\n",
              "  <tbody>\n",
              "    <tr>\n",
              "      <th>2000-01-03</th>\n",
              "      <td>3.500000</td>\n",
              "      <td>3.542500</td>\n",
              "      <td>3.500000</td>\n",
              "      <td>3.500000</td>\n",
              "      <td>2.099435</td>\n",
              "      <td>585600</td>\n",
              "    </tr>\n",
              "    <tr>\n",
              "      <th>2000-01-04</th>\n",
              "      <td>3.466666</td>\n",
              "      <td>3.474166</td>\n",
              "      <td>3.416666</td>\n",
              "      <td>3.416666</td>\n",
              "      <td>2.049448</td>\n",
              "      <td>782400</td>\n",
              "    </tr>\n",
              "    <tr>\n",
              "      <th>2000-01-05</th>\n",
              "      <td>3.375000</td>\n",
              "      <td>3.416666</td>\n",
              "      <td>3.375000</td>\n",
              "      <td>3.416666</td>\n",
              "      <td>2.049448</td>\n",
              "      <td>1876800</td>\n",
              "    </tr>\n",
              "    <tr>\n",
              "      <th>2000-01-06</th>\n",
              "      <td>3.416666</td>\n",
              "      <td>3.500000</td>\n",
              "      <td>3.416666</td>\n",
              "      <td>3.416666</td>\n",
              "      <td>2.049448</td>\n",
              "      <td>792000</td>\n",
              "    </tr>\n",
              "    <tr>\n",
              "      <th>2000-01-07</th>\n",
              "      <td>3.458333</td>\n",
              "      <td>3.559166</td>\n",
              "      <td>3.458333</td>\n",
              "      <td>3.541666</td>\n",
              "      <td>2.124428</td>\n",
              "      <td>5347200</td>\n",
              "    </tr>\n",
              "    <tr>\n",
              "      <th>...</th>\n",
              "      <td>...</td>\n",
              "      <td>...</td>\n",
              "      <td>...</td>\n",
              "      <td>...</td>\n",
              "      <td>...</td>\n",
              "      <td>...</td>\n",
              "    </tr>\n",
              "    <tr>\n",
              "      <th>2021-05-27</th>\n",
              "      <td>110.800003</td>\n",
              "      <td>112.089996</td>\n",
              "      <td>109.769997</td>\n",
              "      <td>110.989998</td>\n",
              "      <td>110.989998</td>\n",
              "      <td>55448700</td>\n",
              "    </tr>\n",
              "    <tr>\n",
              "      <th>2021-05-28</th>\n",
              "      <td>111.110001</td>\n",
              "      <td>112.750000</td>\n",
              "      <td>109.419998</td>\n",
              "      <td>111.589996</td>\n",
              "      <td>111.589996</td>\n",
              "      <td>25153500</td>\n",
              "    </tr>\n",
              "    <tr>\n",
              "      <th>2021-05-31</th>\n",
              "      <td>112.500000</td>\n",
              "      <td>114.889999</td>\n",
              "      <td>112.500000</td>\n",
              "      <td>114.779999</td>\n",
              "      <td>114.779999</td>\n",
              "      <td>17812600</td>\n",
              "    </tr>\n",
              "    <tr>\n",
              "      <th>2021-06-01</th>\n",
              "      <td>117.000000</td>\n",
              "      <td>118.000000</td>\n",
              "      <td>113.199997</td>\n",
              "      <td>113.199997</td>\n",
              "      <td>113.199997</td>\n",
              "      <td>31468400</td>\n",
              "    </tr>\n",
              "    <tr>\n",
              "      <th>2021-06-02</th>\n",
              "      <td>114.220001</td>\n",
              "      <td>115.699997</td>\n",
              "      <td>113.500000</td>\n",
              "      <td>114.800003</td>\n",
              "      <td>114.800003</td>\n",
              "      <td>20295500</td>\n",
              "    </tr>\n",
              "  </tbody>\n",
              "</table>\n",
              "<p>5380 rows × 6 columns</p>\n",
              "</div>"
            ],
            "text/plain": [
              "                  Open        High  ...   Adj Close    Volume\n",
              "Date                                ...                      \n",
              "2000-01-03    3.500000    3.542500  ...    2.099435    585600\n",
              "2000-01-04    3.466666    3.474166  ...    2.049448    782400\n",
              "2000-01-05    3.375000    3.416666  ...    2.049448   1876800\n",
              "2000-01-06    3.416666    3.500000  ...    2.049448    792000\n",
              "2000-01-07    3.458333    3.559166  ...    2.124428   5347200\n",
              "...                ...         ...  ...         ...       ...\n",
              "2021-05-27  110.800003  112.089996  ...  110.989998  55448700\n",
              "2021-05-28  111.110001  112.750000  ...  111.589996  25153500\n",
              "2021-05-31  112.500000  114.889999  ...  114.779999  17812600\n",
              "2021-06-01  117.000000  118.000000  ...  113.199997  31468400\n",
              "2021-06-02  114.220001  115.699997  ...  114.800003  20295500\n",
              "\n",
              "[5380 rows x 6 columns]"
            ]
          },
          "metadata": {
            "tags": []
          },
          "execution_count": 5
        }
      ]
    },
    {
      "cell_type": "code",
      "metadata": {
        "colab": {
          "base_uri": "https://localhost:8080/"
        },
        "id": "WkS_p85vRGQA",
        "outputId": "3b1c71fe-3bf8-4d85-bbb4-766f744b4832"
      },
      "source": [
        "vale3[\"Close\"]"
      ],
      "execution_count": null,
      "outputs": [
        {
          "output_type": "execute_result",
          "data": {
            "text/plain": [
              "Date\n",
              "2000-01-03      3.500000\n",
              "2000-01-04      3.416666\n",
              "2000-01-05      3.416666\n",
              "2000-01-06      3.416666\n",
              "2000-01-07      3.541666\n",
              "                 ...    \n",
              "2021-05-27    110.989998\n",
              "2021-05-28    111.589996\n",
              "2021-05-31    114.779999\n",
              "2021-06-01    113.199997\n",
              "2021-06-02    114.800003\n",
              "Name: Close, Length: 5380, dtype: float64"
            ]
          },
          "metadata": {
            "tags": []
          },
          "execution_count": 6
        }
      ]
    },
    {
      "cell_type": "code",
      "metadata": {
        "colab": {
          "base_uri": "https://localhost:8080/",
          "height": 452
        },
        "id": "5swhUe--RRXw",
        "outputId": "31ee5a55-752b-4853-8afd-c9c287ffe456"
      },
      "source": [
        "vale3.loc[\"2020\":]"
      ],
      "execution_count": null,
      "outputs": [
        {
          "output_type": "execute_result",
          "data": {
            "text/html": [
              "<div>\n",
              "<style scoped>\n",
              "    .dataframe tbody tr th:only-of-type {\n",
              "        vertical-align: middle;\n",
              "    }\n",
              "\n",
              "    .dataframe tbody tr th {\n",
              "        vertical-align: top;\n",
              "    }\n",
              "\n",
              "    .dataframe thead th {\n",
              "        text-align: right;\n",
              "    }\n",
              "</style>\n",
              "<table border=\"1\" class=\"dataframe\">\n",
              "  <thead>\n",
              "    <tr style=\"text-align: right;\">\n",
              "      <th></th>\n",
              "      <th>Open</th>\n",
              "      <th>High</th>\n",
              "      <th>Low</th>\n",
              "      <th>Close</th>\n",
              "      <th>Adj Close</th>\n",
              "      <th>Volume</th>\n",
              "    </tr>\n",
              "    <tr>\n",
              "      <th>Date</th>\n",
              "      <th></th>\n",
              "      <th></th>\n",
              "      <th></th>\n",
              "      <th></th>\n",
              "      <th></th>\n",
              "      <th></th>\n",
              "    </tr>\n",
              "  </thead>\n",
              "  <tbody>\n",
              "    <tr>\n",
              "      <th>2020-01-02</th>\n",
              "      <td>53.980000</td>\n",
              "      <td>54.439999</td>\n",
              "      <td>53.750000</td>\n",
              "      <td>54.330002</td>\n",
              "      <td>49.901928</td>\n",
              "      <td>17509700</td>\n",
              "    </tr>\n",
              "    <tr>\n",
              "      <th>2020-01-03</th>\n",
              "      <td>53.680000</td>\n",
              "      <td>54.500000</td>\n",
              "      <td>53.580002</td>\n",
              "      <td>53.930000</td>\n",
              "      <td>49.534527</td>\n",
              "      <td>17284800</td>\n",
              "    </tr>\n",
              "    <tr>\n",
              "      <th>2020-01-06</th>\n",
              "      <td>53.799999</td>\n",
              "      <td>53.799999</td>\n",
              "      <td>53.150002</td>\n",
              "      <td>53.610001</td>\n",
              "      <td>49.240608</td>\n",
              "      <td>32787800</td>\n",
              "    </tr>\n",
              "    <tr>\n",
              "      <th>2020-01-07</th>\n",
              "      <td>53.500000</td>\n",
              "      <td>54.189999</td>\n",
              "      <td>53.400002</td>\n",
              "      <td>54.000000</td>\n",
              "      <td>49.598820</td>\n",
              "      <td>16326400</td>\n",
              "    </tr>\n",
              "    <tr>\n",
              "      <th>2020-01-08</th>\n",
              "      <td>54.200001</td>\n",
              "      <td>54.369999</td>\n",
              "      <td>53.619999</td>\n",
              "      <td>54.009998</td>\n",
              "      <td>49.608006</td>\n",
              "      <td>15298500</td>\n",
              "    </tr>\n",
              "    <tr>\n",
              "      <th>...</th>\n",
              "      <td>...</td>\n",
              "      <td>...</td>\n",
              "      <td>...</td>\n",
              "      <td>...</td>\n",
              "      <td>...</td>\n",
              "      <td>...</td>\n",
              "    </tr>\n",
              "    <tr>\n",
              "      <th>2021-05-27</th>\n",
              "      <td>110.800003</td>\n",
              "      <td>112.089996</td>\n",
              "      <td>109.769997</td>\n",
              "      <td>110.989998</td>\n",
              "      <td>110.989998</td>\n",
              "      <td>55448700</td>\n",
              "    </tr>\n",
              "    <tr>\n",
              "      <th>2021-05-28</th>\n",
              "      <td>111.110001</td>\n",
              "      <td>112.750000</td>\n",
              "      <td>109.419998</td>\n",
              "      <td>111.589996</td>\n",
              "      <td>111.589996</td>\n",
              "      <td>25153500</td>\n",
              "    </tr>\n",
              "    <tr>\n",
              "      <th>2021-05-31</th>\n",
              "      <td>112.500000</td>\n",
              "      <td>114.889999</td>\n",
              "      <td>112.500000</td>\n",
              "      <td>114.779999</td>\n",
              "      <td>114.779999</td>\n",
              "      <td>17812600</td>\n",
              "    </tr>\n",
              "    <tr>\n",
              "      <th>2021-06-01</th>\n",
              "      <td>117.000000</td>\n",
              "      <td>118.000000</td>\n",
              "      <td>113.199997</td>\n",
              "      <td>113.199997</td>\n",
              "      <td>113.199997</td>\n",
              "      <td>31468400</td>\n",
              "    </tr>\n",
              "    <tr>\n",
              "      <th>2021-06-02</th>\n",
              "      <td>114.220001</td>\n",
              "      <td>115.699997</td>\n",
              "      <td>113.500000</td>\n",
              "      <td>114.800003</td>\n",
              "      <td>114.800003</td>\n",
              "      <td>20295500</td>\n",
              "    </tr>\n",
              "  </tbody>\n",
              "</table>\n",
              "<p>349 rows × 6 columns</p>\n",
              "</div>"
            ],
            "text/plain": [
              "                  Open        High  ...   Adj Close    Volume\n",
              "Date                                ...                      \n",
              "2020-01-02   53.980000   54.439999  ...   49.901928  17509700\n",
              "2020-01-03   53.680000   54.500000  ...   49.534527  17284800\n",
              "2020-01-06   53.799999   53.799999  ...   49.240608  32787800\n",
              "2020-01-07   53.500000   54.189999  ...   49.598820  16326400\n",
              "2020-01-08   54.200001   54.369999  ...   49.608006  15298500\n",
              "...                ...         ...  ...         ...       ...\n",
              "2021-05-27  110.800003  112.089996  ...  110.989998  55448700\n",
              "2021-05-28  111.110001  112.750000  ...  111.589996  25153500\n",
              "2021-05-31  112.500000  114.889999  ...  114.779999  17812600\n",
              "2021-06-01  117.000000  118.000000  ...  113.199997  31468400\n",
              "2021-06-02  114.220001  115.699997  ...  114.800003  20295500\n",
              "\n",
              "[349 rows x 6 columns]"
            ]
          },
          "metadata": {
            "tags": []
          },
          "execution_count": 7
        }
      ]
    },
    {
      "cell_type": "code",
      "metadata": {
        "colab": {
          "base_uri": "https://localhost:8080/",
          "height": 452
        },
        "id": "n7INlBhGRe3I",
        "outputId": "fb0c7345-7274-4045-a8b3-944e44488c1c"
      },
      "source": [
        "vale3.loc[\"2020-05-01\":\"2021-02-20\"]"
      ],
      "execution_count": null,
      "outputs": [
        {
          "output_type": "execute_result",
          "data": {
            "text/html": [
              "<div>\n",
              "<style scoped>\n",
              "    .dataframe tbody tr th:only-of-type {\n",
              "        vertical-align: middle;\n",
              "    }\n",
              "\n",
              "    .dataframe tbody tr th {\n",
              "        vertical-align: top;\n",
              "    }\n",
              "\n",
              "    .dataframe thead th {\n",
              "        text-align: right;\n",
              "    }\n",
              "</style>\n",
              "<table border=\"1\" class=\"dataframe\">\n",
              "  <thead>\n",
              "    <tr style=\"text-align: right;\">\n",
              "      <th></th>\n",
              "      <th>Open</th>\n",
              "      <th>High</th>\n",
              "      <th>Low</th>\n",
              "      <th>Close</th>\n",
              "      <th>Adj Close</th>\n",
              "      <th>Volume</th>\n",
              "    </tr>\n",
              "    <tr>\n",
              "      <th>Date</th>\n",
              "      <th></th>\n",
              "      <th></th>\n",
              "      <th></th>\n",
              "      <th></th>\n",
              "      <th></th>\n",
              "      <th></th>\n",
              "    </tr>\n",
              "  </thead>\n",
              "  <tbody>\n",
              "    <tr>\n",
              "      <th>2020-05-04</th>\n",
              "      <td>43.700001</td>\n",
              "      <td>44.330002</td>\n",
              "      <td>43.400002</td>\n",
              "      <td>43.930000</td>\n",
              "      <td>40.349556</td>\n",
              "      <td>16994300</td>\n",
              "    </tr>\n",
              "    <tr>\n",
              "      <th>2020-05-05</th>\n",
              "      <td>44.450001</td>\n",
              "      <td>45.029999</td>\n",
              "      <td>43.700001</td>\n",
              "      <td>43.700001</td>\n",
              "      <td>40.138306</td>\n",
              "      <td>19070600</td>\n",
              "    </tr>\n",
              "    <tr>\n",
              "      <th>2020-05-06</th>\n",
              "      <td>44.189999</td>\n",
              "      <td>44.759998</td>\n",
              "      <td>43.610001</td>\n",
              "      <td>44.330002</td>\n",
              "      <td>40.716957</td>\n",
              "      <td>26602700</td>\n",
              "    </tr>\n",
              "    <tr>\n",
              "      <th>2020-05-07</th>\n",
              "      <td>45.630001</td>\n",
              "      <td>46.980000</td>\n",
              "      <td>45.450001</td>\n",
              "      <td>46.049999</td>\n",
              "      <td>42.296768</td>\n",
              "      <td>42194300</td>\n",
              "    </tr>\n",
              "    <tr>\n",
              "      <th>2020-05-08</th>\n",
              "      <td>47.500000</td>\n",
              "      <td>48.959999</td>\n",
              "      <td>46.970001</td>\n",
              "      <td>48.849998</td>\n",
              "      <td>44.868561</td>\n",
              "      <td>33922800</td>\n",
              "    </tr>\n",
              "    <tr>\n",
              "      <th>...</th>\n",
              "      <td>...</td>\n",
              "      <td>...</td>\n",
              "      <td>...</td>\n",
              "      <td>...</td>\n",
              "      <td>...</td>\n",
              "      <td>...</td>\n",
              "    </tr>\n",
              "    <tr>\n",
              "      <th>2021-02-10</th>\n",
              "      <td>94.660004</td>\n",
              "      <td>95.669998</td>\n",
              "      <td>94.379997</td>\n",
              "      <td>94.699997</td>\n",
              "      <td>90.617683</td>\n",
              "      <td>40318300</td>\n",
              "    </tr>\n",
              "    <tr>\n",
              "      <th>2021-02-11</th>\n",
              "      <td>95.470001</td>\n",
              "      <td>95.470001</td>\n",
              "      <td>93.099998</td>\n",
              "      <td>93.099998</td>\n",
              "      <td>89.086655</td>\n",
              "      <td>19775900</td>\n",
              "    </tr>\n",
              "    <tr>\n",
              "      <th>2021-02-12</th>\n",
              "      <td>93.120003</td>\n",
              "      <td>94.139999</td>\n",
              "      <td>92.199997</td>\n",
              "      <td>93.889999</td>\n",
              "      <td>89.842598</td>\n",
              "      <td>14760700</td>\n",
              "    </tr>\n",
              "    <tr>\n",
              "      <th>2021-02-18</th>\n",
              "      <td>97.360001</td>\n",
              "      <td>98.400002</td>\n",
              "      <td>96.019997</td>\n",
              "      <td>97.400002</td>\n",
              "      <td>93.201294</td>\n",
              "      <td>33088500</td>\n",
              "    </tr>\n",
              "    <tr>\n",
              "      <th>2021-02-19</th>\n",
              "      <td>97.209999</td>\n",
              "      <td>98.849998</td>\n",
              "      <td>96.330002</td>\n",
              "      <td>97.769997</td>\n",
              "      <td>93.555344</td>\n",
              "      <td>24966600</td>\n",
              "    </tr>\n",
              "  </tbody>\n",
              "</table>\n",
              "<p>197 rows × 6 columns</p>\n",
              "</div>"
            ],
            "text/plain": [
              "                 Open       High        Low      Close  Adj Close    Volume\n",
              "Date                                                                       \n",
              "2020-05-04  43.700001  44.330002  43.400002  43.930000  40.349556  16994300\n",
              "2020-05-05  44.450001  45.029999  43.700001  43.700001  40.138306  19070600\n",
              "2020-05-06  44.189999  44.759998  43.610001  44.330002  40.716957  26602700\n",
              "2020-05-07  45.630001  46.980000  45.450001  46.049999  42.296768  42194300\n",
              "2020-05-08  47.500000  48.959999  46.970001  48.849998  44.868561  33922800\n",
              "...               ...        ...        ...        ...        ...       ...\n",
              "2021-02-10  94.660004  95.669998  94.379997  94.699997  90.617683  40318300\n",
              "2021-02-11  95.470001  95.470001  93.099998  93.099998  89.086655  19775900\n",
              "2021-02-12  93.120003  94.139999  92.199997  93.889999  89.842598  14760700\n",
              "2021-02-18  97.360001  98.400002  96.019997  97.400002  93.201294  33088500\n",
              "2021-02-19  97.209999  98.849998  96.330002  97.769997  93.555344  24966600\n",
              "\n",
              "[197 rows x 6 columns]"
            ]
          },
          "metadata": {
            "tags": []
          },
          "execution_count": 8
        }
      ]
    },
    {
      "cell_type": "code",
      "metadata": {
        "colab": {
          "base_uri": "https://localhost:8080/",
          "height": 297
        },
        "id": "jDZXvcNQRot4",
        "outputId": "e911e549-ade3-4044-ceb1-56efca1ec787"
      },
      "source": [
        "vale3.plot()"
      ],
      "execution_count": null,
      "outputs": [
        {
          "output_type": "execute_result",
          "data": {
            "text/plain": [
              "<matplotlib.axes._subplots.AxesSubplot at 0x7f96ac0f7450>"
            ]
          },
          "metadata": {
            "tags": []
          },
          "execution_count": 9
        },
        {
          "output_type": "display_data",
          "data": {
            "image/png": "[encoded data removed]",
            "text/plain": [
              "<Figure size 432x288 with 1 Axes>"
            ]
          },
          "metadata": {
            "tags": [],
            "needs_background": "light"
          }
        }
      ]
    },
    {
      "cell_type": "code",
      "metadata": {
        "colab": {
          "base_uri": "https://localhost:8080/",
          "height": 269
        },
        "id": "xnbusVUVRwio",
        "outputId": "b61f76d0-907c-4735-e274-d06aa8e88fc9"
      },
      "source": [
        "vale3[\"Adj Close\"].plot(figsize=(10,4));"
      ],
      "execution_count": null,
      "outputs": [
        {
          "output_type": "display_data",
          "data": {
            "image/png": "[encoded data removed]",
            "text/plain": [
              "<Figure size 720x288 with 1 Axes>"
            ]
          },
          "metadata": {
            "tags": [],
            "needs_background": "light"
          }
        }
      ]
    },
    {
      "cell_type": "markdown",
      "metadata": {
        "id": "zkMHo6kAWmnJ"
      },
      "source": [
        "### Exemplo Prático 02 - Integração com Google Planilhas"
      ]
    },
    {
      "cell_type": "markdown",
      "metadata": {
        "id": "xdIDjdI1Uq5Y"
      },
      "source": [
        ">Instalando `gspread`"
      ]
    },
    {
      "cell_type": "code",
      "metadata": {
        "id": "8f78dBjnA3Y-"
      },
      "source": [
        "!pip install gspread"
      ],
      "execution_count": null,
      "outputs": []
    },
    {
      "cell_type": "markdown",
      "metadata": {
        "id": "40vthssCUv1X"
      },
      "source": [
        ">Importando as Bibliotecas"
      ]
    },
    {
      "cell_type": "code",
      "metadata": {
        "id": "VgLSPFycA9SJ"
      },
      "source": [
        "from google.colab import auth\n",
        "import gspread\n",
        "from oauth2client.client import GoogleCredentials"
      ],
      "execution_count": null,
      "outputs": []
    },
    {
      "cell_type": "markdown",
      "metadata": {
        "id": "R2du4Rvuxq4h"
      },
      "source": [
        ">Realizando a Autenticação"
      ]
    },
    {
      "cell_type": "code",
      "metadata": {
        "id": "bJGFIHvJxcfo"
      },
      "source": [
        "auth.authenticate_user()\n",
        "gc = gspread.authorize(GoogleCredentials.get_application_default())"
      ],
      "execution_count": null,
      "outputs": []
    },
    {
      "cell_type": "markdown",
      "metadata": {
        "id": "SBpuhBm9U8cg"
      },
      "source": [
        ">Criando uma planilha vazia"
      ]
    },
    {
      "cell_type": "code",
      "metadata": {
        "id": "PpVsOifeBB0m",
        "colab": {
          "base_uri": "https://localhost:8080/",
          "height": 34
        },
        "outputId": "ec175888-ae1c-4d87-acb3-813f6beab574"
      },
      "source": [
        "gc.create('Planilha01')"
      ],
      "execution_count": null,
      "outputs": [
        {
          "output_type": "execute_result",
          "data": {
            "text/plain": [
              "<Spreadsheet 'Planilha01' id:19pRZ5GYD4cGGa-p2yoiuy05sKefT6w-XFUpi04jPlgE>"
            ]
          },
          "metadata": {
            "tags": []
          },
          "execution_count": 4
        }
      ]
    },
    {
      "cell_type": "markdown",
      "metadata": {
        "id": "PLGoqsjliO8P"
      },
      "source": [
        ">Abrindo uma Planilha"
      ]
    },
    {
      "cell_type": "code",
      "metadata": {
        "id": "WCxNYLZCiPBv"
      },
      "source": [
        "planilha = gc.open('Planilha01')"
      ],
      "execution_count": null,
      "outputs": []
    },
    {
      "cell_type": "markdown",
      "metadata": {
        "id": "4qHcboXCVZ_j"
      },
      "source": [
        ">Adicionando uma nova Página\n",
        "\n"
      ]
    },
    {
      "cell_type": "code",
      "metadata": {
        "id": "gSLxsA5sVfuR",
        "colab": {
          "base_uri": "https://localhost:8080/",
          "height": 34
        },
        "outputId": "9fec4a45-58f6-4a39-be01-df732dead789"
      },
      "source": [
        "planilha.add_worksheet('nova_pagina', 10, 5)"
      ],
      "execution_count": null,
      "outputs": [
        {
          "output_type": "execute_result",
          "data": {
            "text/plain": [
              "<Worksheet 'nova_pagina' id:40256675>"
            ]
          },
          "metadata": {
            "tags": []
          },
          "execution_count": 7
        }
      ]
    },
    {
      "cell_type": "markdown",
      "metadata": {
        "id": "UtRICcfNaMOq"
      },
      "source": [
        ">Selecionando uma Página"
      ]
    },
    {
      "cell_type": "code",
      "metadata": {
        "id": "dGhngLzmhJO1"
      },
      "source": [
        "pagina1 = planilha.get_worksheet(0)"
      ],
      "execution_count": null,
      "outputs": []
    },
    {
      "cell_type": "markdown",
      "metadata": {
        "id": "hkWy8KOCi4py"
      },
      "source": [
        ">Apagando uma Página"
      ]
    },
    {
      "cell_type": "code",
      "metadata": {
        "id": "6HvqjzJghZZH",
        "colab": {
          "base_uri": "https://localhost:8080/",
          "height": 51
        },
        "outputId": "b118859d-0405-4385-973e-ff48182b7377"
      },
      "source": [
        "planilha.del_worksheet(pagina1)"
      ],
      "execution_count": null,
      "outputs": [
        {
          "output_type": "execute_result",
          "data": {
            "text/plain": [
              "{'replies': [{}],\n",
              " 'spreadsheetId': '19pRZ5GYD4cGGa-p2yoiuy05sKefT6w-XFUpi04jPlgE'}"
            ]
          },
          "metadata": {
            "tags": []
          },
          "execution_count": 9
        }
      ]
    },
    {
      "cell_type": "markdown",
      "metadata": {
        "id": "4-B4RpqpaOu5"
      },
      "source": [
        ">Alterando os valores das células"
      ]
    },
    {
      "cell_type": "markdown",
      "metadata": {
        "id": "TkU-D5Zhkle4"
      },
      "source": [
        ">>1º passo: selecionar a página"
      ]
    },
    {
      "cell_type": "code",
      "metadata": {
        "id": "BMNOIhJKjIQL"
      },
      "source": [
        "nova_pagina = planilha.get_worksheet(0)"
      ],
      "execution_count": null,
      "outputs": []
    },
    {
      "cell_type": "markdown",
      "metadata": {
        "id": "Xx7MhtXaktQp"
      },
      "source": [
        ">>`update_acell()`: pelo código da célula"
      ]
    },
    {
      "cell_type": "code",
      "metadata": {
        "id": "9w9LPmdRZtuQ",
        "colab": {
          "base_uri": "https://localhost:8080/",
          "height": 102
        },
        "outputId": "60dc71a4-0f2a-4c78-c16d-a168e6436a1e"
      },
      "source": [
        "nova_pagina.update_acell('a1', 120)"
      ],
      "execution_count": null,
      "outputs": [
        {
          "output_type": "execute_result",
          "data": {
            "text/plain": [
              "{'spreadsheetId': '19pRZ5GYD4cGGa-p2yoiuy05sKefT6w-XFUpi04jPlgE',\n",
              " 'updatedCells': 1,\n",
              " 'updatedColumns': 1,\n",
              " 'updatedRange': 'nova_pagina!A1',\n",
              " 'updatedRows': 1}"
            ]
          },
          "metadata": {
            "tags": []
          },
          "execution_count": 11
        }
      ]
    },
    {
      "cell_type": "markdown",
      "metadata": {
        "id": "Fr1mLethlDIF"
      },
      "source": [
        ">>`update_cell`: pelos números da linha e coluna"
      ]
    },
    {
      "cell_type": "code",
      "metadata": {
        "id": "1eU9gm3qZtya",
        "colab": {
          "base_uri": "https://localhost:8080/",
          "height": 102
        },
        "outputId": "c8872f71-dab5-4411-b07d-a9dbd03721e8"
      },
      "source": [
        "nova_pagina.update_cell(2,2, 'qualquer texto')"
      ],
      "execution_count": null,
      "outputs": [
        {
          "output_type": "execute_result",
          "data": {
            "text/plain": [
              "{'spreadsheetId': '19pRZ5GYD4cGGa-p2yoiuy05sKefT6w-XFUpi04jPlgE',\n",
              " 'updatedCells': 1,\n",
              " 'updatedColumns': 1,\n",
              " 'updatedRange': 'nova_pagina!B2',\n",
              " 'updatedRows': 1}"
            ]
          },
          "metadata": {
            "tags": []
          },
          "execution_count": 12
        }
      ]
    },
    {
      "cell_type": "markdown",
      "metadata": {
        "id": "tldCxUqWlQBc"
      },
      "source": [
        ">>`update_cells()`: por uma lista de valores"
      ]
    },
    {
      "cell_type": "code",
      "metadata": {
        "id": "ME3vC5O8bgR9",
        "colab": {
          "base_uri": "https://localhost:8080/",
          "height": 85
        },
        "outputId": "2c0ca856-00d5-45d9-88cb-356166f8e6f6"
      },
      "source": [
        "lista_cel = nova_pagina.range('a1:b2')\n",
        "lista_cel"
      ],
      "execution_count": null,
      "outputs": [
        {
          "output_type": "execute_result",
          "data": {
            "text/plain": [
              "[<Cell R1C1 '120'>,\n",
              " <Cell R1C2 ''>,\n",
              " <Cell R2C1 ''>,\n",
              " <Cell R2C2 'qualquer texto'>]"
            ]
          },
          "metadata": {
            "tags": []
          },
          "execution_count": 13
        }
      ]
    },
    {
      "cell_type": "code",
      "metadata": {
        "id": "fDF-oFOznejR",
        "colab": {
          "base_uri": "https://localhost:8080/",
          "height": 34
        },
        "outputId": "e13d8237-f8c4-46dd-884f-532e0b79836d"
      },
      "source": [
        "valores = ['a','b','c','d']\n",
        "\n",
        "for i, valor in enumerate(valores):\n",
        "  lista_cel[i].value = valor\n",
        "\n",
        "lista_cel"
      ],
      "execution_count": null,
      "outputs": [
        {
          "output_type": "execute_result",
          "data": {
            "text/plain": [
              "[<Cell R1C1 'a'>, <Cell R1C2 'b'>, <Cell R2C1 'c'>, <Cell R2C2 'd'>]"
            ]
          },
          "metadata": {
            "tags": []
          },
          "execution_count": 17
        }
      ]
    },
    {
      "cell_type": "code",
      "metadata": {
        "id": "litmy4_xnGKx",
        "colab": {
          "base_uri": "https://localhost:8080/",
          "height": 102
        },
        "outputId": "3e8f646c-1194-40c8-8fcb-390818279f3b"
      },
      "source": [
        "nova_pagina.update_cells(lista_cel)"
      ],
      "execution_count": null,
      "outputs": [
        {
          "output_type": "execute_result",
          "data": {
            "text/plain": [
              "{'spreadsheetId': '19pRZ5GYD4cGGa-p2yoiuy05sKefT6w-XFUpi04jPlgE',\n",
              " 'updatedCells': 4,\n",
              " 'updatedColumns': 2,\n",
              " 'updatedRange': 'nova_pagina!A1:B2',\n",
              " 'updatedRows': 2}"
            ]
          },
          "metadata": {
            "tags": []
          },
          "execution_count": 18
        }
      ]
    },
    {
      "cell_type": "markdown",
      "metadata": {
        "id": "78ID1c5nW_ql"
      },
      "source": [
        "### Exemplo Prático 03 - Consumindo API do Banco Central do Brasil"
      ]
    },
    {
      "cell_type": "markdown",
      "metadata": {
        "id": "wCrZFw72ELSQ"
      },
      "source": [
        "#### Importando Bibliotecas"
      ]
    },
    {
      "cell_type": "code",
      "metadata": {
        "id": "yb4cNor24GIq"
      },
      "source": [
        "import pandas as pd\n",
        "import seaborn as sns; sns.set()\n",
        "import matplotlib.pyplot as plt\n",
        "\n",
        "import matplotlib\n",
        "matplotlib.rcParams['figure.figsize'] = (16,8)"
      ],
      "execution_count": null,
      "outputs": []
    },
    {
      "cell_type": "markdown",
      "metadata": {
        "id": "JcMZ_zSwEXt5"
      },
      "source": [
        "##### Obtendo Dados através da API do Banco Central do Brasil"
      ]
    },
    {
      "cell_type": "code",
      "metadata": {
        "id": "_k2Wdf_5WQmy"
      },
      "source": [
        "def consulta_bc(codigo_bcb):\n",
        "  url = 'http://api.bcb.gov.br/dados/serie/bcdata.sgs.{}/dados?formato=json'.format(codigo_bcb)\n",
        "  df = pd.read_json(url)\n",
        "  df['data'] = pd.to_datetime(df['data'], dayfirst=True)\n",
        "  df.set_index('data', inplace=True)\n",
        "  return df"
      ],
      "execution_count": null,
      "outputs": []
    },
    {
      "cell_type": "markdown",
      "metadata": {
        "id": "_8lOZMwDEsB2"
      },
      "source": [
        "#### Exemplo de Consultas à API do Banco Central do Brasil"
      ]
    },
    {
      "cell_type": "code",
      "metadata": {
        "id": "MX0JaW2Fd4d6"
      },
      "source": [
        "ipca = consulta_bc(433)"
      ],
      "execution_count": null,
      "outputs": []
    },
    {
      "cell_type": "code",
      "metadata": {
        "id": "NeXLf0Snd9kP"
      },
      "source": [
        "igpm = consulta_bc(189)"
      ],
      "execution_count": null,
      "outputs": []
    },
    {
      "cell_type": "code",
      "metadata": {
        "id": "X7dEo3axfLBW",
        "colab": {
          "base_uri": "https://localhost:8080/",
          "height": 519
        },
        "outputId": "0225c050-a5b2-49dc-9ea7-43b4ec71d6c6"
      },
      "source": [
        "selic_meta = consulta_bc(432)\n",
        "selic_meta.plot()"
      ],
      "execution_count": null,
      "outputs": [
        {
          "output_type": "execute_result",
          "data": {
            "text/plain": [
              "<matplotlib.axes._subplots.AxesSubplot at 0x7f5b3e591210>"
            ]
          },
          "metadata": {},
          "execution_count": 5
        },
        {
          "output_type": "display_data",
          "data": {
            "text/plain": [
              "<Figure size 1152x576 with 1 Axes>"
            ],
            "image/png": "[encoded data removed]"
          },
          "metadata": {}
        }
      ]
    },
    {
      "cell_type": "code",
      "metadata": {
        "id": "jPo6p9VzfLIo",
        "outputId": "a34a6e5e-67b5-49e2-d186-4a12589090d1",
        "colab": {
          "base_uri": "https://localhost:8080/",
          "height": 311
        }
      },
      "source": [
        "reservas_internacionais = consulta_bc(13621)"
      ],
      "execution_count": null,
      "outputs": [
        {
          "output_type": "error",
          "ename": "KeyboardInterrupt",
          "evalue": "ignored",
          "traceback": [
            "\u001b[0;31m---------------------------------------------------------------------------\u001b[0m",
            "\u001b[0;31mKeyboardInterrupt\u001b[0m                         Traceback (most recent call last)",
            "\u001b[0;32m<ipython-input-6-249d6c532246>\u001b[0m in \u001b[0;36m<module>\u001b[0;34m()\u001b[0m\n\u001b[0;32m----> 1\u001b[0;31m \u001b[0mreservas_internacionais\u001b[0m \u001b[0;34m=\u001b[0m \u001b[0mconsulta_bc\u001b[0m\u001b[0;34m(\u001b[0m\u001b[0;36m13621\u001b[0m\u001b[0;34m)\u001b[0m\u001b[0;34m\u001b[0m\u001b[0;34m\u001b[0m\u001b[0m\n\u001b[0m",
            "\u001b[0;32m<ipython-input-2-a26e9c028b46>\u001b[0m in \u001b[0;36mconsulta_bc\u001b[0;34m(codigo_bcb)\u001b[0m\n\u001b[1;32m      1\u001b[0m \u001b[0;32mdef\u001b[0m \u001b[0mconsulta_bc\u001b[0m\u001b[0;34m(\u001b[0m\u001b[0mcodigo_bcb\u001b[0m\u001b[0;34m)\u001b[0m\u001b[0;34m:\u001b[0m\u001b[0;34m\u001b[0m\u001b[0;34m\u001b[0m\u001b[0m\n\u001b[1;32m      2\u001b[0m   \u001b[0murl\u001b[0m \u001b[0;34m=\u001b[0m \u001b[0;34m'http://api.bcb.gov.br/dados/serie/bcdata.sgs.{}/dados?formato=json'\u001b[0m\u001b[0;34m.\u001b[0m\u001b[0mformat\u001b[0m\u001b[0;34m(\u001b[0m\u001b[0mcodigo_bcb\u001b[0m\u001b[0;34m)\u001b[0m\u001b[0;34m\u001b[0m\u001b[0;34m\u001b[0m\u001b[0m\n\u001b[0;32m----> 3\u001b[0;31m   \u001b[0mdf\u001b[0m \u001b[0;34m=\u001b[0m \u001b[0mpd\u001b[0m\u001b[0;34m.\u001b[0m\u001b[0mread_json\u001b[0m\u001b[0;34m(\u001b[0m\u001b[0murl\u001b[0m\u001b[0;34m)\u001b[0m\u001b[0;34m\u001b[0m\u001b[0;34m\u001b[0m\u001b[0m\n\u001b[0m\u001b[1;32m      4\u001b[0m   \u001b[0mdf\u001b[0m\u001b[0;34m[\u001b[0m\u001b[0;34m'data'\u001b[0m\u001b[0;34m]\u001b[0m \u001b[0;34m=\u001b[0m \u001b[0mpd\u001b[0m\u001b[0;34m.\u001b[0m\u001b[0mto_datetime\u001b[0m\u001b[0;34m(\u001b[0m\u001b[0mdf\u001b[0m\u001b[0;34m[\u001b[0m\u001b[0;34m'data'\u001b[0m\u001b[0;34m]\u001b[0m\u001b[0;34m,\u001b[0m \u001b[0mdayfirst\u001b[0m\u001b[0;34m=\u001b[0m\u001b[0;32mTrue\u001b[0m\u001b[0;34m)\u001b[0m\u001b[0;34m\u001b[0m\u001b[0;34m\u001b[0m\u001b[0m\n\u001b[1;32m      5\u001b[0m   \u001b[0mdf\u001b[0m\u001b[0;34m.\u001b[0m\u001b[0mset_index\u001b[0m\u001b[0;34m(\u001b[0m\u001b[0;34m'data'\u001b[0m\u001b[0;34m,\u001b[0m \u001b[0minplace\u001b[0m\u001b[0;34m=\u001b[0m\u001b[0;32mTrue\u001b[0m\u001b[0;34m)\u001b[0m\u001b[0;34m\u001b[0m\u001b[0;34m\u001b[0m\u001b[0m\n",
            "\u001b[0;32m/usr/local/lib/python3.7/dist-packages/pandas/util/_decorators.py\u001b[0m in \u001b[0;36mwrapper\u001b[0;34m(*args, **kwargs)\u001b[0m\n\u001b[1;32m    205\u001b[0m                 \u001b[0;32melse\u001b[0m\u001b[0;34m:\u001b[0m\u001b[0;34m\u001b[0m\u001b[0;34m\u001b[0m\u001b[0m\n\u001b[1;32m    206\u001b[0m                     \u001b[0mkwargs\u001b[0m\u001b[0;34m[\u001b[0m\u001b[0mnew_arg_name\u001b[0m\u001b[0;34m]\u001b[0m \u001b[0;34m=\u001b[0m \u001b[0mnew_arg_value\u001b[0m\u001b[0;34m\u001b[0m\u001b[0;34m\u001b[0m\u001b[0m\n\u001b[0;32m--> 207\u001b[0;31m             \u001b[0;32mreturn\u001b[0m \u001b[0mfunc\u001b[0m\u001b[0;34m(\u001b[0m\u001b[0;34m*\u001b[0m\u001b[0margs\u001b[0m\u001b[0;34m,\u001b[0m \u001b[0;34m**\u001b[0m\u001b[0mkwargs\u001b[0m\u001b[0;34m)\u001b[0m\u001b[0;34m\u001b[0m\u001b[0;34m\u001b[0m\u001b[0m\n\u001b[0m\u001b[1;32m    208\u001b[0m \u001b[0;34m\u001b[0m\u001b[0m\n\u001b[1;32m    209\u001b[0m         \u001b[0;32mreturn\u001b[0m \u001b[0mcast\u001b[0m\u001b[0;34m(\u001b[0m\u001b[0mF\u001b[0m\u001b[0;34m,\u001b[0m \u001b[0mwrapper\u001b[0m\u001b[0;34m)\u001b[0m\u001b[0;34m\u001b[0m\u001b[0;34m\u001b[0m\u001b[0m\n",
            "\u001b[0;32m/usr/local/lib/python3.7/dist-packages/pandas/util/_decorators.py\u001b[0m in \u001b[0;36mwrapper\u001b[0;34m(*args, **kwargs)\u001b[0m\n\u001b[1;32m    309\u001b[0m                     \u001b[0mstacklevel\u001b[0m\u001b[0;34m=\u001b[0m\u001b[0mstacklevel\u001b[0m\u001b[0;34m,\u001b[0m\u001b[0;34m\u001b[0m\u001b[0;34m\u001b[0m\u001b[0m\n\u001b[1;32m    310\u001b[0m                 )\n\u001b[0;32m--> 311\u001b[0;31m             \u001b[0;32mreturn\u001b[0m \u001b[0mfunc\u001b[0m\u001b[0;34m(\u001b[0m\u001b[0;34m*\u001b[0m\u001b[0margs\u001b[0m\u001b[0;34m,\u001b[0m \u001b[0;34m**\u001b[0m\u001b[0mkwargs\u001b[0m\u001b[0;34m)\u001b[0m\u001b[0;34m\u001b[0m\u001b[0;34m\u001b[0m\u001b[0m\n\u001b[0m\u001b[1;32m    312\u001b[0m \u001b[0;34m\u001b[0m\u001b[0m\n\u001b[1;32m    313\u001b[0m         \u001b[0;32mreturn\u001b[0m \u001b[0mwrapper\u001b[0m\u001b[0;34m\u001b[0m\u001b[0;34m\u001b[0m\u001b[0m\n",
            "\u001b[0;32m/usr/local/lib/python3.7/dist-packages/pandas/io/json/_json.py\u001b[0m in \u001b[0;36mread_json\u001b[0;34m(path_or_buf, orient, typ, dtype, convert_axes, convert_dates, keep_default_dates, numpy, precise_float, date_unit, encoding, encoding_errors, lines, chunksize, compression, nrows, storage_options)\u001b[0m\n\u001b[1;32m    605\u001b[0m         \u001b[0mnrows\u001b[0m\u001b[0;34m=\u001b[0m\u001b[0mnrows\u001b[0m\u001b[0;34m,\u001b[0m\u001b[0;34m\u001b[0m\u001b[0;34m\u001b[0m\u001b[0m\n\u001b[1;32m    606\u001b[0m         \u001b[0mstorage_options\u001b[0m\u001b[0;34m=\u001b[0m\u001b[0mstorage_options\u001b[0m\u001b[0;34m,\u001b[0m\u001b[0;34m\u001b[0m\u001b[0;34m\u001b[0m\u001b[0m\n\u001b[0;32m--> 607\u001b[0;31m         \u001b[0mencoding_errors\u001b[0m\u001b[0;34m=\u001b[0m\u001b[0mencoding_errors\u001b[0m\u001b[0;34m,\u001b[0m\u001b[0;34m\u001b[0m\u001b[0;34m\u001b[0m\u001b[0m\n\u001b[0m\u001b[1;32m    608\u001b[0m     )\n\u001b[1;32m    609\u001b[0m \u001b[0;34m\u001b[0m\u001b[0m\n",
            "\u001b[0;32m/usr/local/lib/python3.7/dist-packages/pandas/io/json/_json.py\u001b[0m in \u001b[0;36m__init__\u001b[0;34m(self, filepath_or_buffer, orient, typ, dtype, convert_axes, convert_dates, keep_default_dates, numpy, precise_float, date_unit, encoding, lines, chunksize, compression, nrows, storage_options, encoding_errors)\u001b[0m\n\u001b[1;32m    673\u001b[0m                 \u001b[0;32mraise\u001b[0m \u001b[0mValueError\u001b[0m\u001b[0;34m(\u001b[0m\u001b[0;34m\"nrows can only be passed if lines=True\"\u001b[0m\u001b[0;34m)\u001b[0m\u001b[0;34m\u001b[0m\u001b[0;34m\u001b[0m\u001b[0m\n\u001b[1;32m    674\u001b[0m \u001b[0;34m\u001b[0m\u001b[0m\n\u001b[0;32m--> 675\u001b[0;31m         \u001b[0mdata\u001b[0m \u001b[0;34m=\u001b[0m \u001b[0mself\u001b[0m\u001b[0;34m.\u001b[0m\u001b[0m_get_data_from_filepath\u001b[0m\u001b[0;34m(\u001b[0m\u001b[0mfilepath_or_buffer\u001b[0m\u001b[0;34m)\u001b[0m\u001b[0;34m\u001b[0m\u001b[0;34m\u001b[0m\u001b[0m\n\u001b[0m\u001b[1;32m    676\u001b[0m         \u001b[0mself\u001b[0m\u001b[0;34m.\u001b[0m\u001b[0mdata\u001b[0m \u001b[0;34m=\u001b[0m \u001b[0mself\u001b[0m\u001b[0;34m.\u001b[0m\u001b[0m_preprocess_data\u001b[0m\u001b[0;34m(\u001b[0m\u001b[0mdata\u001b[0m\u001b[0;34m)\u001b[0m\u001b[0;34m\u001b[0m\u001b[0;34m\u001b[0m\u001b[0m\n\u001b[1;32m    677\u001b[0m \u001b[0;34m\u001b[0m\u001b[0m\n",
            "\u001b[0;32m/usr/local/lib/python3.7/dist-packages/pandas/io/json/_json.py\u001b[0m in \u001b[0;36m_get_data_from_filepath\u001b[0;34m(self, filepath_or_buffer)\u001b[0m\n\u001b[1;32m    716\u001b[0m                 \u001b[0mcompression\u001b[0m\u001b[0;34m=\u001b[0m\u001b[0mself\u001b[0m\u001b[0;34m.\u001b[0m\u001b[0mcompression\u001b[0m\u001b[0;34m,\u001b[0m\u001b[0;34m\u001b[0m\u001b[0;34m\u001b[0m\u001b[0m\n\u001b[1;32m    717\u001b[0m                 \u001b[0mstorage_options\u001b[0m\u001b[0;34m=\u001b[0m\u001b[0mself\u001b[0m\u001b[0;34m.\u001b[0m\u001b[0mstorage_options\u001b[0m\u001b[0;34m,\u001b[0m\u001b[0;34m\u001b[0m\u001b[0;34m\u001b[0m\u001b[0m\n\u001b[0;32m--> 718\u001b[0;31m                 \u001b[0merrors\u001b[0m\u001b[0;34m=\u001b[0m\u001b[0mself\u001b[0m\u001b[0;34m.\u001b[0m\u001b[0mencoding_errors\u001b[0m\u001b[0;34m,\u001b[0m\u001b[0;34m\u001b[0m\u001b[0;34m\u001b[0m\u001b[0m\n\u001b[0m\u001b[1;32m    719\u001b[0m             )\n\u001b[1;32m    720\u001b[0m             \u001b[0mfilepath_or_buffer\u001b[0m \u001b[0;34m=\u001b[0m \u001b[0mself\u001b[0m\u001b[0;34m.\u001b[0m\u001b[0mhandles\u001b[0m\u001b[0;34m.\u001b[0m\u001b[0mhandle\u001b[0m\u001b[0;34m\u001b[0m\u001b[0;34m\u001b[0m\u001b[0m\n",
            "\u001b[0;32m/usr/local/lib/python3.7/dist-packages/pandas/io/common.py\u001b[0m in \u001b[0;36mget_handle\u001b[0;34m(path_or_buf, mode, encoding, compression, memory_map, is_text, errors, storage_options)\u001b[0m\n\u001b[1;32m    612\u001b[0m         \u001b[0mcompression\u001b[0m\u001b[0;34m=\u001b[0m\u001b[0mcompression\u001b[0m\u001b[0;34m,\u001b[0m\u001b[0;34m\u001b[0m\u001b[0;34m\u001b[0m\u001b[0m\n\u001b[1;32m    613\u001b[0m         \u001b[0mmode\u001b[0m\u001b[0;34m=\u001b[0m\u001b[0mmode\u001b[0m\u001b[0;34m,\u001b[0m\u001b[0;34m\u001b[0m\u001b[0;34m\u001b[0m\u001b[0m\n\u001b[0;32m--> 614\u001b[0;31m         \u001b[0mstorage_options\u001b[0m\u001b[0;34m=\u001b[0m\u001b[0mstorage_options\u001b[0m\u001b[0;34m,\u001b[0m\u001b[0;34m\u001b[0m\u001b[0;34m\u001b[0m\u001b[0m\n\u001b[0m\u001b[1;32m    615\u001b[0m     )\n\u001b[1;32m    616\u001b[0m \u001b[0;34m\u001b[0m\u001b[0m\n",
            "\u001b[0;32m/usr/local/lib/python3.7/dist-packages/pandas/io/common.py\u001b[0m in \u001b[0;36m_get_filepath_or_buffer\u001b[0;34m(filepath_or_buffer, encoding, compression, mode, storage_options)\u001b[0m\n\u001b[1;32m    315\u001b[0m                 \u001b[0;31m# Override compression based on Content-Encoding header\u001b[0m\u001b[0;34m\u001b[0m\u001b[0;34m\u001b[0m\u001b[0;34m\u001b[0m\u001b[0m\n\u001b[1;32m    316\u001b[0m                 \u001b[0mcompression\u001b[0m \u001b[0;34m=\u001b[0m \u001b[0;34m{\u001b[0m\u001b[0;34m\"method\"\u001b[0m\u001b[0;34m:\u001b[0m \u001b[0;34m\"gzip\"\u001b[0m\u001b[0;34m}\u001b[0m\u001b[0;34m\u001b[0m\u001b[0;34m\u001b[0m\u001b[0m\n\u001b[0;32m--> 317\u001b[0;31m             \u001b[0mreader\u001b[0m \u001b[0;34m=\u001b[0m \u001b[0mBytesIO\u001b[0m\u001b[0;34m(\u001b[0m\u001b[0mreq\u001b[0m\u001b[0;34m.\u001b[0m\u001b[0mread\u001b[0m\u001b[0;34m(\u001b[0m\u001b[0;34m)\u001b[0m\u001b[0;34m)\u001b[0m\u001b[0;34m\u001b[0m\u001b[0;34m\u001b[0m\u001b[0m\n\u001b[0m\u001b[1;32m    318\u001b[0m         return IOArgs(\n\u001b[1;32m    319\u001b[0m             \u001b[0mfilepath_or_buffer\u001b[0m\u001b[0;34m=\u001b[0m\u001b[0mreader\u001b[0m\u001b[0;34m,\u001b[0m\u001b[0;34m\u001b[0m\u001b[0;34m\u001b[0m\u001b[0m\n",
            "\u001b[0;32m/usr/lib/python3.7/http/client.py\u001b[0m in \u001b[0;36mread\u001b[0;34m(self, amt)\u001b[0m\n\u001b[1;32m    476\u001b[0m             \u001b[0;32melse\u001b[0m\u001b[0;34m:\u001b[0m\u001b[0;34m\u001b[0m\u001b[0;34m\u001b[0m\u001b[0m\n\u001b[1;32m    477\u001b[0m                 \u001b[0;32mtry\u001b[0m\u001b[0;34m:\u001b[0m\u001b[0;34m\u001b[0m\u001b[0;34m\u001b[0m\u001b[0m\n\u001b[0;32m--> 478\u001b[0;31m                     \u001b[0ms\u001b[0m \u001b[0;34m=\u001b[0m \u001b[0mself\u001b[0m\u001b[0;34m.\u001b[0m\u001b[0m_safe_read\u001b[0m\u001b[0;34m(\u001b[0m\u001b[0mself\u001b[0m\u001b[0;34m.\u001b[0m\u001b[0mlength\u001b[0m\u001b[0;34m)\u001b[0m\u001b[0;34m\u001b[0m\u001b[0;34m\u001b[0m\u001b[0m\n\u001b[0m\u001b[1;32m    479\u001b[0m                 \u001b[0;32mexcept\u001b[0m \u001b[0mIncompleteRead\u001b[0m\u001b[0;34m:\u001b[0m\u001b[0;34m\u001b[0m\u001b[0;34m\u001b[0m\u001b[0m\n\u001b[1;32m    480\u001b[0m                     \u001b[0mself\u001b[0m\u001b[0;34m.\u001b[0m\u001b[0m_close_conn\u001b[0m\u001b[0;34m(\u001b[0m\u001b[0;34m)\u001b[0m\u001b[0;34m\u001b[0m\u001b[0;34m\u001b[0m\u001b[0m\n",
            "\u001b[0;32m/usr/lib/python3.7/http/client.py\u001b[0m in \u001b[0;36m_safe_read\u001b[0;34m(self, amt)\u001b[0m\n\u001b[1;32m    626\u001b[0m         \u001b[0ms\u001b[0m \u001b[0;34m=\u001b[0m \u001b[0;34m[\u001b[0m\u001b[0;34m]\u001b[0m\u001b[0;34m\u001b[0m\u001b[0;34m\u001b[0m\u001b[0m\n\u001b[1;32m    627\u001b[0m         \u001b[0;32mwhile\u001b[0m \u001b[0mamt\u001b[0m \u001b[0;34m>\u001b[0m \u001b[0;36m0\u001b[0m\u001b[0;34m:\u001b[0m\u001b[0;34m\u001b[0m\u001b[0;34m\u001b[0m\u001b[0m\n\u001b[0;32m--> 628\u001b[0;31m             \u001b[0mchunk\u001b[0m \u001b[0;34m=\u001b[0m \u001b[0mself\u001b[0m\u001b[0;34m.\u001b[0m\u001b[0mfp\u001b[0m\u001b[0;34m.\u001b[0m\u001b[0mread\u001b[0m\u001b[0;34m(\u001b[0m\u001b[0mmin\u001b[0m\u001b[0;34m(\u001b[0m\u001b[0mamt\u001b[0m\u001b[0;34m,\u001b[0m \u001b[0mMAXAMOUNT\u001b[0m\u001b[0;34m)\u001b[0m\u001b[0;34m)\u001b[0m\u001b[0;34m\u001b[0m\u001b[0;34m\u001b[0m\u001b[0m\n\u001b[0m\u001b[1;32m    629\u001b[0m             \u001b[0;32mif\u001b[0m \u001b[0;32mnot\u001b[0m \u001b[0mchunk\u001b[0m\u001b[0;34m:\u001b[0m\u001b[0;34m\u001b[0m\u001b[0;34m\u001b[0m\u001b[0m\n\u001b[1;32m    630\u001b[0m                 \u001b[0;32mraise\u001b[0m \u001b[0mIncompleteRead\u001b[0m\u001b[0;34m(\u001b[0m\u001b[0;34mb''\u001b[0m\u001b[0;34m.\u001b[0m\u001b[0mjoin\u001b[0m\u001b[0;34m(\u001b[0m\u001b[0ms\u001b[0m\u001b[0;34m)\u001b[0m\u001b[0;34m,\u001b[0m \u001b[0mamt\u001b[0m\u001b[0;34m)\u001b[0m\u001b[0;34m\u001b[0m\u001b[0;34m\u001b[0m\u001b[0m\n",
            "\u001b[0;32m/usr/lib/python3.7/socket.py\u001b[0m in \u001b[0;36mreadinto\u001b[0;34m(self, b)\u001b[0m\n\u001b[1;32m    587\u001b[0m         \u001b[0;32mwhile\u001b[0m \u001b[0;32mTrue\u001b[0m\u001b[0;34m:\u001b[0m\u001b[0;34m\u001b[0m\u001b[0;34m\u001b[0m\u001b[0m\n\u001b[1;32m    588\u001b[0m             \u001b[0;32mtry\u001b[0m\u001b[0;34m:\u001b[0m\u001b[0;34m\u001b[0m\u001b[0;34m\u001b[0m\u001b[0m\n\u001b[0;32m--> 589\u001b[0;31m                 \u001b[0;32mreturn\u001b[0m \u001b[0mself\u001b[0m\u001b[0;34m.\u001b[0m\u001b[0m_sock\u001b[0m\u001b[0;34m.\u001b[0m\u001b[0mrecv_into\u001b[0m\u001b[0;34m(\u001b[0m\u001b[0mb\u001b[0m\u001b[0;34m)\u001b[0m\u001b[0;34m\u001b[0m\u001b[0;34m\u001b[0m\u001b[0m\n\u001b[0m\u001b[1;32m    590\u001b[0m             \u001b[0;32mexcept\u001b[0m \u001b[0mtimeout\u001b[0m\u001b[0;34m:\u001b[0m\u001b[0;34m\u001b[0m\u001b[0;34m\u001b[0m\u001b[0m\n\u001b[1;32m    591\u001b[0m                 \u001b[0mself\u001b[0m\u001b[0;34m.\u001b[0m\u001b[0m_timeout_occurred\u001b[0m \u001b[0;34m=\u001b[0m \u001b[0;32mTrue\u001b[0m\u001b[0;34m\u001b[0m\u001b[0;34m\u001b[0m\u001b[0m\n",
            "\u001b[0;32m/usr/lib/python3.7/ssl.py\u001b[0m in \u001b[0;36mrecv_into\u001b[0;34m(self, buffer, nbytes, flags)\u001b[0m\n\u001b[1;32m   1069\u001b[0m                   \u001b[0;34m\"non-zero flags not allowed in calls to recv_into() on %s\"\u001b[0m \u001b[0;34m%\u001b[0m\u001b[0;34m\u001b[0m\u001b[0;34m\u001b[0m\u001b[0m\n\u001b[1;32m   1070\u001b[0m                   self.__class__)\n\u001b[0;32m-> 1071\u001b[0;31m             \u001b[0;32mreturn\u001b[0m \u001b[0mself\u001b[0m\u001b[0;34m.\u001b[0m\u001b[0mread\u001b[0m\u001b[0;34m(\u001b[0m\u001b[0mnbytes\u001b[0m\u001b[0;34m,\u001b[0m \u001b[0mbuffer\u001b[0m\u001b[0;34m)\u001b[0m\u001b[0;34m\u001b[0m\u001b[0;34m\u001b[0m\u001b[0m\n\u001b[0m\u001b[1;32m   1072\u001b[0m         \u001b[0;32melse\u001b[0m\u001b[0;34m:\u001b[0m\u001b[0;34m\u001b[0m\u001b[0;34m\u001b[0m\u001b[0m\n\u001b[1;32m   1073\u001b[0m             \u001b[0;32mreturn\u001b[0m \u001b[0msuper\u001b[0m\u001b[0;34m(\u001b[0m\u001b[0;34m)\u001b[0m\u001b[0;34m.\u001b[0m\u001b[0mrecv_into\u001b[0m\u001b[0;34m(\u001b[0m\u001b[0mbuffer\u001b[0m\u001b[0;34m,\u001b[0m \u001b[0mnbytes\u001b[0m\u001b[0;34m,\u001b[0m \u001b[0mflags\u001b[0m\u001b[0;34m)\u001b[0m\u001b[0;34m\u001b[0m\u001b[0;34m\u001b[0m\u001b[0m\n",
            "\u001b[0;32m/usr/lib/python3.7/ssl.py\u001b[0m in \u001b[0;36mread\u001b[0;34m(self, len, buffer)\u001b[0m\n\u001b[1;32m    927\u001b[0m         \u001b[0;32mtry\u001b[0m\u001b[0;34m:\u001b[0m\u001b[0;34m\u001b[0m\u001b[0;34m\u001b[0m\u001b[0m\n\u001b[1;32m    928\u001b[0m             \u001b[0;32mif\u001b[0m \u001b[0mbuffer\u001b[0m \u001b[0;32mis\u001b[0m \u001b[0;32mnot\u001b[0m \u001b[0;32mNone\u001b[0m\u001b[0;34m:\u001b[0m\u001b[0;34m\u001b[0m\u001b[0;34m\u001b[0m\u001b[0m\n\u001b[0;32m--> 929\u001b[0;31m                 \u001b[0;32mreturn\u001b[0m \u001b[0mself\u001b[0m\u001b[0;34m.\u001b[0m\u001b[0m_sslobj\u001b[0m\u001b[0;34m.\u001b[0m\u001b[0mread\u001b[0m\u001b[0;34m(\u001b[0m\u001b[0mlen\u001b[0m\u001b[0;34m,\u001b[0m \u001b[0mbuffer\u001b[0m\u001b[0;34m)\u001b[0m\u001b[0;34m\u001b[0m\u001b[0;34m\u001b[0m\u001b[0m\n\u001b[0m\u001b[1;32m    930\u001b[0m             \u001b[0;32melse\u001b[0m\u001b[0;34m:\u001b[0m\u001b[0;34m\u001b[0m\u001b[0;34m\u001b[0m\u001b[0m\n\u001b[1;32m    931\u001b[0m                 \u001b[0;32mreturn\u001b[0m \u001b[0mself\u001b[0m\u001b[0;34m.\u001b[0m\u001b[0m_sslobj\u001b[0m\u001b[0;34m.\u001b[0m\u001b[0mread\u001b[0m\u001b[0;34m(\u001b[0m\u001b[0mlen\u001b[0m\u001b[0;34m)\u001b[0m\u001b[0;34m\u001b[0m\u001b[0;34m\u001b[0m\u001b[0m\n",
            "\u001b[0;31mKeyboardInterrupt\u001b[0m: "
          ]
        }
      ]
    },
    {
      "cell_type": "code",
      "metadata": {
        "id": "Y5WDtukafsDb"
      },
      "source": [
        "reservas_internacionais.plot()"
      ],
      "execution_count": null,
      "outputs": []
    },
    {
      "cell_type": "code",
      "metadata": {
        "id": "6IsqvkjOfwxn"
      },
      "source": [
        "pnad = consulta_bc(24369)\n",
        "pnad"
      ],
      "execution_count": null,
      "outputs": []
    },
    {
      "cell_type": "code",
      "metadata": {
        "id": "t22SvM4TMTL4"
      },
      "source": [
        ""
      ],
      "execution_count": null,
      "outputs": []
    },
    {
      "cell_type": "markdown",
      "metadata": {
        "id": "4pE6ZHUrgD1R"
      },
      "source": [
        "#### CDI vs IBOV"
      ]
    },
    {
      "cell_type": "code",
      "metadata": {
        "id": "fFAIIRz-gGy2"
      },
      "source": [
        "!pip install yfinance --upgrade --no-cache-dir\n",
        "import yfinance as yf"
      ],
      "execution_count": null,
      "outputs": []
    },
    {
      "cell_type": "code",
      "metadata": {
        "id": "h3C6-bhLgOVy"
      },
      "source": [
        "ibov = yf.download(tickers='^BVSP')[['Adj Close']]"
      ],
      "execution_count": null,
      "outputs": []
    },
    {
      "cell_type": "code",
      "metadata": {
        "id": "T8dOezjlgUVS"
      },
      "source": [
        "ibov_retorno = ibov.pct_change()"
      ],
      "execution_count": null,
      "outputs": []
    },
    {
      "cell_type": "code",
      "metadata": {
        "id": "vhki41c6gmQE"
      },
      "source": [
        "cdi = consulta_bc(12)"
      ],
      "execution_count": null,
      "outputs": []
    },
    {
      "cell_type": "code",
      "metadata": {
        "id": "RD_TZXE9hJsG"
      },
      "source": [
        "data_inicio = '2018-01-01'"
      ],
      "execution_count": null,
      "outputs": []
    },
    {
      "cell_type": "code",
      "metadata": {
        "id": "Ks7oDZZegY9l"
      },
      "source": [
        "ibov_retorno_acumulado = (1 + ibov_retorno[ibov_retorno.index >= data_inicio]).cumprod()\n",
        "ibov_retorno_acumulado.iloc[0] = 1"
      ],
      "execution_count": null,
      "outputs": []
    },
    {
      "cell_type": "code",
      "metadata": {
        "id": "2EgDzKB1gyjq"
      },
      "source": [
        "cdi_acumulado = (1 + cdi[cdi.index >= data_inicio] / 100).cumprod()\n",
        "cdi_acumulado.iloc[0] = 1"
      ],
      "execution_count": null,
      "outputs": []
    },
    {
      "cell_type": "code",
      "metadata": {
        "id": "WckF3Dofgnc-"
      },
      "source": [
        "fig, ax = plt.subplots()\n",
        "ax.plot(ibov_retorno_acumulado)\n",
        "ax.plot(cdi_acumulado);"
      ],
      "execution_count": null,
      "outputs": []
    },
    {
      "cell_type": "code",
      "metadata": {
        "id": "p9WZPP42hbqN"
      },
      "source": [
        ""
      ],
      "execution_count": null,
      "outputs": []
    }
  ]
}